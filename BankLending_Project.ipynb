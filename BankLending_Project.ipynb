{
 "cells": [
  {
   "cell_type": "markdown",
   "id": "b08c9e68",
   "metadata": {},
   "source": [
    "## Importing The Necessary Libraries"
   ]
  },
  {
   "cell_type": "code",
   "execution_count": 3,
   "id": "1df8039e",
   "metadata": {},
   "outputs": [],
   "source": [
    "import numpy as np\n",
    "import pandas as pd\n",
    "import matplotlib.pyplot as plt\n",
    "import seaborn as sns\n",
    "from sklearn.preprocessing import StandardScaler\n",
    "from xgboost import XGBClassifier\n",
    "import xgboost as xgb\n",
    "from sklearn.metrics import accuracy_score, confusion_matrix, classification_report\n",
    "import joblib"
   ]
  },
  {
   "cell_type": "markdown",
   "id": "dbd82bc5",
   "metadata": {},
   "source": [
    "## Reading The Files Data"
   ]
  },
  {
   "cell_type": "code",
   "execution_count": 4,
   "id": "577153a3",
   "metadata": {
    "scrolled": false
   },
   "outputs": [
    {
     "name": "stderr",
     "output_type": "stream",
     "text": [
      "C:\\Users\\habee\\Anaconda3\\lib\\site-packages\\IPython\\core\\interactiveshell.py:3165: DtypeWarning: Columns (17,45,53) have mixed types.Specify dtype option on import or set low_memory=False.\n",
      "  has_raised = await self.run_ast_nodes(code_ast.body, cell_name,\n"
     ]
    }
   ],
   "source": [
    "file = 'LendingData.csv'\n",
    "data = pd.read_csv(file, delimiter='\\t')"
   ]
  },
  {
   "cell_type": "markdown",
   "id": "ebb4e7b3",
   "metadata": {},
   "source": [
    "# DATA WRANGLING"
   ]
  },
  {
   "cell_type": "code",
   "execution_count": 5,
   "id": "1e07ecd8",
   "metadata": {
    "scrolled": true
   },
   "outputs": [
    {
     "data": {
      "text/html": [
       "<div>\n",
       "<style scoped>\n",
       "    .dataframe tbody tr th:only-of-type {\n",
       "        vertical-align: middle;\n",
       "    }\n",
       "\n",
       "    .dataframe tbody tr th {\n",
       "        vertical-align: top;\n",
       "    }\n",
       "\n",
       "    .dataframe thead th {\n",
       "        text-align: right;\n",
       "    }\n",
       "</style>\n",
       "<table border=\"1\" class=\"dataframe\">\n",
       "  <thead>\n",
       "    <tr style=\"text-align: right;\">\n",
       "      <th></th>\n",
       "      <th>id</th>\n",
       "      <th>member_id</th>\n",
       "      <th>loan_amnt</th>\n",
       "      <th>funded_amnt</th>\n",
       "      <th>funded_amnt_inv</th>\n",
       "      <th>term</th>\n",
       "      <th>int_rate</th>\n",
       "      <th>installment</th>\n",
       "      <th>grade</th>\n",
       "      <th>sub_grade</th>\n",
       "      <th>...</th>\n",
       "      <th>il_util</th>\n",
       "      <th>open_rv_12m</th>\n",
       "      <th>open_rv_24m</th>\n",
       "      <th>max_bal_bc</th>\n",
       "      <th>all_util</th>\n",
       "      <th>total_rev_hi_lim</th>\n",
       "      <th>inq_fi</th>\n",
       "      <th>total_cu_tl</th>\n",
       "      <th>inq_last_12m</th>\n",
       "      <th>default_ind</th>\n",
       "    </tr>\n",
       "  </thead>\n",
       "  <tbody>\n",
       "    <tr>\n",
       "      <th>0</th>\n",
       "      <td>1077501</td>\n",
       "      <td>1296599</td>\n",
       "      <td>5000.0</td>\n",
       "      <td>5000.0</td>\n",
       "      <td>4975.0</td>\n",
       "      <td>36 months</td>\n",
       "      <td>10.65</td>\n",
       "      <td>162.87</td>\n",
       "      <td>B</td>\n",
       "      <td>B2</td>\n",
       "      <td>...</td>\n",
       "      <td>NaN</td>\n",
       "      <td>NaN</td>\n",
       "      <td>NaN</td>\n",
       "      <td>NaN</td>\n",
       "      <td>NaN</td>\n",
       "      <td>NaN</td>\n",
       "      <td>NaN</td>\n",
       "      <td>NaN</td>\n",
       "      <td>NaN</td>\n",
       "      <td>0</td>\n",
       "    </tr>\n",
       "    <tr>\n",
       "      <th>1</th>\n",
       "      <td>1077430</td>\n",
       "      <td>1314167</td>\n",
       "      <td>2500.0</td>\n",
       "      <td>2500.0</td>\n",
       "      <td>2500.0</td>\n",
       "      <td>60 months</td>\n",
       "      <td>15.27</td>\n",
       "      <td>59.83</td>\n",
       "      <td>C</td>\n",
       "      <td>C4</td>\n",
       "      <td>...</td>\n",
       "      <td>NaN</td>\n",
       "      <td>NaN</td>\n",
       "      <td>NaN</td>\n",
       "      <td>NaN</td>\n",
       "      <td>NaN</td>\n",
       "      <td>NaN</td>\n",
       "      <td>NaN</td>\n",
       "      <td>NaN</td>\n",
       "      <td>NaN</td>\n",
       "      <td>1</td>\n",
       "    </tr>\n",
       "    <tr>\n",
       "      <th>2</th>\n",
       "      <td>1077175</td>\n",
       "      <td>1313524</td>\n",
       "      <td>2400.0</td>\n",
       "      <td>2400.0</td>\n",
       "      <td>2400.0</td>\n",
       "      <td>36 months</td>\n",
       "      <td>15.96</td>\n",
       "      <td>84.33</td>\n",
       "      <td>C</td>\n",
       "      <td>C5</td>\n",
       "      <td>...</td>\n",
       "      <td>NaN</td>\n",
       "      <td>NaN</td>\n",
       "      <td>NaN</td>\n",
       "      <td>NaN</td>\n",
       "      <td>NaN</td>\n",
       "      <td>NaN</td>\n",
       "      <td>NaN</td>\n",
       "      <td>NaN</td>\n",
       "      <td>NaN</td>\n",
       "      <td>0</td>\n",
       "    </tr>\n",
       "    <tr>\n",
       "      <th>3</th>\n",
       "      <td>1076863</td>\n",
       "      <td>1277178</td>\n",
       "      <td>10000.0</td>\n",
       "      <td>10000.0</td>\n",
       "      <td>10000.0</td>\n",
       "      <td>36 months</td>\n",
       "      <td>13.49</td>\n",
       "      <td>339.31</td>\n",
       "      <td>C</td>\n",
       "      <td>C1</td>\n",
       "      <td>...</td>\n",
       "      <td>NaN</td>\n",
       "      <td>NaN</td>\n",
       "      <td>NaN</td>\n",
       "      <td>NaN</td>\n",
       "      <td>NaN</td>\n",
       "      <td>NaN</td>\n",
       "      <td>NaN</td>\n",
       "      <td>NaN</td>\n",
       "      <td>NaN</td>\n",
       "      <td>0</td>\n",
       "    </tr>\n",
       "    <tr>\n",
       "      <th>4</th>\n",
       "      <td>1075358</td>\n",
       "      <td>1311748</td>\n",
       "      <td>3000.0</td>\n",
       "      <td>3000.0</td>\n",
       "      <td>3000.0</td>\n",
       "      <td>60 months</td>\n",
       "      <td>12.69</td>\n",
       "      <td>67.79</td>\n",
       "      <td>B</td>\n",
       "      <td>B5</td>\n",
       "      <td>...</td>\n",
       "      <td>NaN</td>\n",
       "      <td>NaN</td>\n",
       "      <td>NaN</td>\n",
       "      <td>NaN</td>\n",
       "      <td>NaN</td>\n",
       "      <td>NaN</td>\n",
       "      <td>NaN</td>\n",
       "      <td>NaN</td>\n",
       "      <td>NaN</td>\n",
       "      <td>0</td>\n",
       "    </tr>\n",
       "  </tbody>\n",
       "</table>\n",
       "<p>5 rows × 73 columns</p>\n",
       "</div>"
      ],
      "text/plain": [
       "        id  member_id  loan_amnt  funded_amnt  funded_amnt_inv        term  \\\n",
       "0  1077501    1296599     5000.0       5000.0           4975.0   36 months   \n",
       "1  1077430    1314167     2500.0       2500.0           2500.0   60 months   \n",
       "2  1077175    1313524     2400.0       2400.0           2400.0   36 months   \n",
       "3  1076863    1277178    10000.0      10000.0          10000.0   36 months   \n",
       "4  1075358    1311748     3000.0       3000.0           3000.0   60 months   \n",
       "\n",
       "   int_rate  installment grade sub_grade  ... il_util open_rv_12m open_rv_24m  \\\n",
       "0     10.65       162.87     B        B2  ...     NaN         NaN         NaN   \n",
       "1     15.27        59.83     C        C4  ...     NaN         NaN         NaN   \n",
       "2     15.96        84.33     C        C5  ...     NaN         NaN         NaN   \n",
       "3     13.49       339.31     C        C1  ...     NaN         NaN         NaN   \n",
       "4     12.69        67.79     B        B5  ...     NaN         NaN         NaN   \n",
       "\n",
       "   max_bal_bc all_util total_rev_hi_lim inq_fi total_cu_tl inq_last_12m  \\\n",
       "0         NaN      NaN              NaN    NaN         NaN          NaN   \n",
       "1         NaN      NaN              NaN    NaN         NaN          NaN   \n",
       "2         NaN      NaN              NaN    NaN         NaN          NaN   \n",
       "3         NaN      NaN              NaN    NaN         NaN          NaN   \n",
       "4         NaN      NaN              NaN    NaN         NaN          NaN   \n",
       "\n",
       "  default_ind  \n",
       "0           0  \n",
       "1           1  \n",
       "2           0  \n",
       "3           0  \n",
       "4           0  \n",
       "\n",
       "[5 rows x 73 columns]"
      ]
     },
     "execution_count": 5,
     "metadata": {},
     "output_type": "execute_result"
    }
   ],
   "source": [
    "data.head()"
   ]
  },
  {
   "cell_type": "code",
   "execution_count": 6,
   "id": "8ef70be5",
   "metadata": {},
   "outputs": [
    {
     "data": {
      "text/html": [
       "<div>\n",
       "<style scoped>\n",
       "    .dataframe tbody tr th:only-of-type {\n",
       "        vertical-align: middle;\n",
       "    }\n",
       "\n",
       "    .dataframe tbody tr th {\n",
       "        vertical-align: top;\n",
       "    }\n",
       "\n",
       "    .dataframe thead th {\n",
       "        text-align: right;\n",
       "    }\n",
       "</style>\n",
       "<table border=\"1\" class=\"dataframe\">\n",
       "  <thead>\n",
       "    <tr style=\"text-align: right;\">\n",
       "      <th></th>\n",
       "      <th>id</th>\n",
       "      <th>member_id</th>\n",
       "      <th>loan_amnt</th>\n",
       "      <th>funded_amnt</th>\n",
       "      <th>funded_amnt_inv</th>\n",
       "      <th>int_rate</th>\n",
       "      <th>installment</th>\n",
       "      <th>annual_inc</th>\n",
       "      <th>dti</th>\n",
       "      <th>delinq_2yrs</th>\n",
       "      <th>...</th>\n",
       "      <th>il_util</th>\n",
       "      <th>open_rv_12m</th>\n",
       "      <th>open_rv_24m</th>\n",
       "      <th>max_bal_bc</th>\n",
       "      <th>all_util</th>\n",
       "      <th>total_rev_hi_lim</th>\n",
       "      <th>inq_fi</th>\n",
       "      <th>total_cu_tl</th>\n",
       "      <th>inq_last_12m</th>\n",
       "      <th>default_ind</th>\n",
       "    </tr>\n",
       "  </thead>\n",
       "  <tbody>\n",
       "    <tr>\n",
       "      <th>count</th>\n",
       "      <td>8.559690e+05</td>\n",
       "      <td>8.559690e+05</td>\n",
       "      <td>855969.000000</td>\n",
       "      <td>855969.000000</td>\n",
       "      <td>855969.000000</td>\n",
       "      <td>855969.000000</td>\n",
       "      <td>855969.000000</td>\n",
       "      <td>8.559690e+05</td>\n",
       "      <td>855969.000000</td>\n",
       "      <td>855969.000000</td>\n",
       "      <td>...</td>\n",
       "      <td>11609.000000</td>\n",
       "      <td>13288.000000</td>\n",
       "      <td>13288.000000</td>\n",
       "      <td>13288.000000</td>\n",
       "      <td>13288.000000</td>\n",
       "      <td>7.886560e+05</td>\n",
       "      <td>13288.000000</td>\n",
       "      <td>13288.000000</td>\n",
       "      <td>13288.000000</td>\n",
       "      <td>855969.000000</td>\n",
       "    </tr>\n",
       "    <tr>\n",
       "      <th>mean</th>\n",
       "      <td>3.224073e+07</td>\n",
       "      <td>3.476269e+07</td>\n",
       "      <td>14745.571335</td>\n",
       "      <td>14732.378305</td>\n",
       "      <td>14700.061226</td>\n",
       "      <td>13.192320</td>\n",
       "      <td>436.238072</td>\n",
       "      <td>7.507119e+04</td>\n",
       "      <td>18.122165</td>\n",
       "      <td>0.311621</td>\n",
       "      <td>...</td>\n",
       "      <td>71.486993</td>\n",
       "      <td>1.354305</td>\n",
       "      <td>2.945515</td>\n",
       "      <td>5840.443332</td>\n",
       "      <td>61.024526</td>\n",
       "      <td>3.216357e+04</td>\n",
       "      <td>0.947772</td>\n",
       "      <td>1.524232</td>\n",
       "      <td>1.841963</td>\n",
       "      <td>0.054286</td>\n",
       "    </tr>\n",
       "    <tr>\n",
       "      <th>std</th>\n",
       "      <td>2.271969e+07</td>\n",
       "      <td>2.399418e+07</td>\n",
       "      <td>8425.340005</td>\n",
       "      <td>8419.471653</td>\n",
       "      <td>8425.805478</td>\n",
       "      <td>4.368365</td>\n",
       "      <td>243.726876</td>\n",
       "      <td>6.426447e+04</td>\n",
       "      <td>17.423629</td>\n",
       "      <td>0.857189</td>\n",
       "      <td>...</td>\n",
       "      <td>23.015293</td>\n",
       "      <td>1.483710</td>\n",
       "      <td>2.595313</td>\n",
       "      <td>5108.500262</td>\n",
       "      <td>20.018117</td>\n",
       "      <td>3.769964e+04</td>\n",
       "      <td>1.441667</td>\n",
       "      <td>2.697601</td>\n",
       "      <td>2.975049</td>\n",
       "      <td>0.226581</td>\n",
       "    </tr>\n",
       "    <tr>\n",
       "      <th>min</th>\n",
       "      <td>5.473400e+04</td>\n",
       "      <td>7.069900e+04</td>\n",
       "      <td>500.000000</td>\n",
       "      <td>500.000000</td>\n",
       "      <td>0.000000</td>\n",
       "      <td>5.320000</td>\n",
       "      <td>15.690000</td>\n",
       "      <td>0.000000e+00</td>\n",
       "      <td>0.000000</td>\n",
       "      <td>0.000000</td>\n",
       "      <td>...</td>\n",
       "      <td>0.000000</td>\n",
       "      <td>0.000000</td>\n",
       "      <td>0.000000</td>\n",
       "      <td>0.000000</td>\n",
       "      <td>0.000000</td>\n",
       "      <td>0.000000e+00</td>\n",
       "      <td>0.000000</td>\n",
       "      <td>0.000000</td>\n",
       "      <td>-4.000000</td>\n",
       "      <td>0.000000</td>\n",
       "    </tr>\n",
       "    <tr>\n",
       "      <th>25%</th>\n",
       "      <td>9.067986e+06</td>\n",
       "      <td>1.079273e+07</td>\n",
       "      <td>8000.000000</td>\n",
       "      <td>8000.000000</td>\n",
       "      <td>8000.000000</td>\n",
       "      <td>9.990000</td>\n",
       "      <td>260.550000</td>\n",
       "      <td>4.500000e+04</td>\n",
       "      <td>11.880000</td>\n",
       "      <td>0.000000</td>\n",
       "      <td>...</td>\n",
       "      <td>58.500000</td>\n",
       "      <td>0.000000</td>\n",
       "      <td>1.000000</td>\n",
       "      <td>2405.000000</td>\n",
       "      <td>47.900000</td>\n",
       "      <td>1.400000e+04</td>\n",
       "      <td>0.000000</td>\n",
       "      <td>0.000000</td>\n",
       "      <td>0.000000</td>\n",
       "      <td>0.000000</td>\n",
       "    </tr>\n",
       "    <tr>\n",
       "      <th>50%</th>\n",
       "      <td>3.431355e+07</td>\n",
       "      <td>3.697532e+07</td>\n",
       "      <td>13000.000000</td>\n",
       "      <td>13000.000000</td>\n",
       "      <td>13000.000000</td>\n",
       "      <td>12.990000</td>\n",
       "      <td>382.550000</td>\n",
       "      <td>6.500000e+04</td>\n",
       "      <td>17.610000</td>\n",
       "      <td>0.000000</td>\n",
       "      <td>...</td>\n",
       "      <td>75.000000</td>\n",
       "      <td>1.000000</td>\n",
       "      <td>2.000000</td>\n",
       "      <td>4485.500000</td>\n",
       "      <td>62.100000</td>\n",
       "      <td>2.380000e+04</td>\n",
       "      <td>0.000000</td>\n",
       "      <td>0.000000</td>\n",
       "      <td>2.000000</td>\n",
       "      <td>0.000000</td>\n",
       "    </tr>\n",
       "    <tr>\n",
       "      <th>75%</th>\n",
       "      <td>5.446311e+07</td>\n",
       "      <td>5.803559e+07</td>\n",
       "      <td>20000.000000</td>\n",
       "      <td>20000.000000</td>\n",
       "      <td>20000.000000</td>\n",
       "      <td>15.990000</td>\n",
       "      <td>571.560000</td>\n",
       "      <td>9.000000e+04</td>\n",
       "      <td>23.900000</td>\n",
       "      <td>0.000000</td>\n",
       "      <td>...</td>\n",
       "      <td>87.500000</td>\n",
       "      <td>2.000000</td>\n",
       "      <td>4.000000</td>\n",
       "      <td>7701.250000</td>\n",
       "      <td>75.300000</td>\n",
       "      <td>3.990000e+04</td>\n",
       "      <td>1.000000</td>\n",
       "      <td>2.000000</td>\n",
       "      <td>3.000000</td>\n",
       "      <td>0.000000</td>\n",
       "    </tr>\n",
       "    <tr>\n",
       "      <th>max</th>\n",
       "      <td>6.861687e+07</td>\n",
       "      <td>7.351969e+07</td>\n",
       "      <td>35000.000000</td>\n",
       "      <td>35000.000000</td>\n",
       "      <td>35000.000000</td>\n",
       "      <td>28.990000</td>\n",
       "      <td>1445.460000</td>\n",
       "      <td>9.500000e+06</td>\n",
       "      <td>9999.000000</td>\n",
       "      <td>39.000000</td>\n",
       "      <td>...</td>\n",
       "      <td>223.300000</td>\n",
       "      <td>22.000000</td>\n",
       "      <td>43.000000</td>\n",
       "      <td>83047.000000</td>\n",
       "      <td>151.400000</td>\n",
       "      <td>9.999999e+06</td>\n",
       "      <td>15.000000</td>\n",
       "      <td>33.000000</td>\n",
       "      <td>32.000000</td>\n",
       "      <td>1.000000</td>\n",
       "    </tr>\n",
       "  </tbody>\n",
       "</table>\n",
       "<p>8 rows × 52 columns</p>\n",
       "</div>"
      ],
      "text/plain": [
       "                 id     member_id      loan_amnt    funded_amnt  \\\n",
       "count  8.559690e+05  8.559690e+05  855969.000000  855969.000000   \n",
       "mean   3.224073e+07  3.476269e+07   14745.571335   14732.378305   \n",
       "std    2.271969e+07  2.399418e+07    8425.340005    8419.471653   \n",
       "min    5.473400e+04  7.069900e+04     500.000000     500.000000   \n",
       "25%    9.067986e+06  1.079273e+07    8000.000000    8000.000000   \n",
       "50%    3.431355e+07  3.697532e+07   13000.000000   13000.000000   \n",
       "75%    5.446311e+07  5.803559e+07   20000.000000   20000.000000   \n",
       "max    6.861687e+07  7.351969e+07   35000.000000   35000.000000   \n",
       "\n",
       "       funded_amnt_inv       int_rate    installment    annual_inc  \\\n",
       "count    855969.000000  855969.000000  855969.000000  8.559690e+05   \n",
       "mean      14700.061226      13.192320     436.238072  7.507119e+04   \n",
       "std        8425.805478       4.368365     243.726876  6.426447e+04   \n",
       "min           0.000000       5.320000      15.690000  0.000000e+00   \n",
       "25%        8000.000000       9.990000     260.550000  4.500000e+04   \n",
       "50%       13000.000000      12.990000     382.550000  6.500000e+04   \n",
       "75%       20000.000000      15.990000     571.560000  9.000000e+04   \n",
       "max       35000.000000      28.990000    1445.460000  9.500000e+06   \n",
       "\n",
       "                 dti    delinq_2yrs  ...       il_util   open_rv_12m  \\\n",
       "count  855969.000000  855969.000000  ...  11609.000000  13288.000000   \n",
       "mean       18.122165       0.311621  ...     71.486993      1.354305   \n",
       "std        17.423629       0.857189  ...     23.015293      1.483710   \n",
       "min         0.000000       0.000000  ...      0.000000      0.000000   \n",
       "25%        11.880000       0.000000  ...     58.500000      0.000000   \n",
       "50%        17.610000       0.000000  ...     75.000000      1.000000   \n",
       "75%        23.900000       0.000000  ...     87.500000      2.000000   \n",
       "max      9999.000000      39.000000  ...    223.300000     22.000000   \n",
       "\n",
       "        open_rv_24m    max_bal_bc      all_util  total_rev_hi_lim  \\\n",
       "count  13288.000000  13288.000000  13288.000000      7.886560e+05   \n",
       "mean       2.945515   5840.443332     61.024526      3.216357e+04   \n",
       "std        2.595313   5108.500262     20.018117      3.769964e+04   \n",
       "min        0.000000      0.000000      0.000000      0.000000e+00   \n",
       "25%        1.000000   2405.000000     47.900000      1.400000e+04   \n",
       "50%        2.000000   4485.500000     62.100000      2.380000e+04   \n",
       "75%        4.000000   7701.250000     75.300000      3.990000e+04   \n",
       "max       43.000000  83047.000000    151.400000      9.999999e+06   \n",
       "\n",
       "             inq_fi   total_cu_tl  inq_last_12m    default_ind  \n",
       "count  13288.000000  13288.000000  13288.000000  855969.000000  \n",
       "mean       0.947772      1.524232      1.841963       0.054286  \n",
       "std        1.441667      2.697601      2.975049       0.226581  \n",
       "min        0.000000      0.000000     -4.000000       0.000000  \n",
       "25%        0.000000      0.000000      0.000000       0.000000  \n",
       "50%        0.000000      0.000000      2.000000       0.000000  \n",
       "75%        1.000000      2.000000      3.000000       0.000000  \n",
       "max       15.000000     33.000000     32.000000       1.000000  \n",
       "\n",
       "[8 rows x 52 columns]"
      ]
     },
     "execution_count": 6,
     "metadata": {},
     "output_type": "execute_result"
    }
   ],
   "source": [
    "data.describe()"
   ]
  },
  {
   "cell_type": "code",
   "execution_count": 7,
   "id": "29e4c729",
   "metadata": {},
   "outputs": [
    {
     "data": {
      "text/plain": [
       "id                       0\n",
       "member_id                0\n",
       "loan_amnt                0\n",
       "funded_amnt              0\n",
       "funded_amnt_inv          0\n",
       "                     ...  \n",
       "total_rev_hi_lim     67313\n",
       "inq_fi              842681\n",
       "total_cu_tl         842681\n",
       "inq_last_12m        842681\n",
       "default_ind              0\n",
       "Length: 73, dtype: int64"
      ]
     },
     "execution_count": 7,
     "metadata": {},
     "output_type": "execute_result"
    }
   ],
   "source": [
    "data.isnull().sum()"
   ]
  },
  {
   "cell_type": "code",
   "execution_count": 8,
   "id": "fb6f6252",
   "metadata": {},
   "outputs": [
    {
     "data": {
      "text/plain": [
       "(855969, 73)"
      ]
     },
     "execution_count": 8,
     "metadata": {},
     "output_type": "execute_result"
    }
   ],
   "source": [
    "data.shape"
   ]
  },
  {
   "cell_type": "code",
   "execution_count": 9,
   "id": "b387a98d",
   "metadata": {
    "scrolled": true
   },
   "outputs": [
    {
     "name": "stdout",
     "output_type": "stream",
     "text": [
      "<class 'pandas.core.frame.DataFrame'>\n",
      "RangeIndex: 855969 entries, 0 to 855968\n",
      "Data columns (total 73 columns):\n",
      " #   Column                       Non-Null Count   Dtype  \n",
      "---  ------                       --------------   -----  \n",
      " 0   id                           855969 non-null  int64  \n",
      " 1   member_id                    855969 non-null  int64  \n",
      " 2   loan_amnt                    855969 non-null  float64\n",
      " 3   funded_amnt                  855969 non-null  float64\n",
      " 4   funded_amnt_inv              855969 non-null  float64\n",
      " 5   term                         855969 non-null  object \n",
      " 6   int_rate                     855969 non-null  float64\n",
      " 7   installment                  855969 non-null  float64\n",
      " 8   grade                        855969 non-null  object \n",
      " 9   sub_grade                    855969 non-null  object \n",
      " 10  emp_title                    806526 non-null  object \n",
      " 11  emp_length                   812908 non-null  object \n",
      " 12  home_ownership               855969 non-null  object \n",
      " 13  annual_inc                   855969 non-null  float64\n",
      " 14  verification_status          855969 non-null  object \n",
      " 15  issue_d                      855969 non-null  object \n",
      " 16  pymnt_plan                   855969 non-null  object \n",
      " 17  desc                         121812 non-null  object \n",
      " 18  purpose                      855969 non-null  object \n",
      " 19  title                        855936 non-null  object \n",
      " 20  zip_code                     855969 non-null  object \n",
      " 21  addr_state                   855969 non-null  object \n",
      " 22  dti                          855969 non-null  float64\n",
      " 23  delinq_2yrs                  855969 non-null  float64\n",
      " 24  earliest_cr_line             855969 non-null  object \n",
      " 25  inq_last_6mths               855969 non-null  float64\n",
      " 26  mths_since_last_delinq       416157 non-null  float64\n",
      " 27  mths_since_last_record       131184 non-null  float64\n",
      " 28  open_acc                     855969 non-null  float64\n",
      " 29  pub_rec                      855969 non-null  float64\n",
      " 30  revol_bal                    855969 non-null  float64\n",
      " 31  revol_util                   855523 non-null  float64\n",
      " 32  total_acc                    855969 non-null  float64\n",
      " 33  initial_list_status          855969 non-null  object \n",
      " 34  out_prncp                    855969 non-null  float64\n",
      " 35  out_prncp_inv                855969 non-null  float64\n",
      " 36  total_pymnt                  855969 non-null  float64\n",
      " 37  total_pymnt_inv              855969 non-null  float64\n",
      " 38  total_rec_prncp              855969 non-null  float64\n",
      " 39  total_rec_int                855969 non-null  float64\n",
      " 40  total_rec_late_fee           855969 non-null  float64\n",
      " 41  recoveries                   855969 non-null  float64\n",
      " 42  collection_recovery_fee      855969 non-null  float64\n",
      " 43  last_pymnt_d                 847107 non-null  object \n",
      " 44  last_pymnt_amnt              855969 non-null  float64\n",
      " 45  next_pymnt_d                 602998 non-null  object \n",
      " 46  last_credit_pull_d           855919 non-null  object \n",
      " 47  collections_12_mths_ex_med   855913 non-null  float64\n",
      " 48  mths_since_last_major_derog  213139 non-null  float64\n",
      " 49  policy_code                  855969 non-null  float64\n",
      " 50  application_type             855969 non-null  object \n",
      " 51  annual_inc_joint             442 non-null     float64\n",
      " 52  dti_joint                    440 non-null     float64\n",
      " 53  verification_status_joint    442 non-null     object \n",
      " 54  acc_now_delinq               855969 non-null  float64\n",
      " 55  tot_coll_amt                 788656 non-null  float64\n",
      " 56  tot_cur_bal                  788656 non-null  float64\n",
      " 57  open_acc_6m                  13288 non-null   float64\n",
      " 58  open_il_6m                   13288 non-null   float64\n",
      " 59  open_il_12m                  13288 non-null   float64\n",
      " 60  open_il_24m                  13288 non-null   float64\n",
      " 61  mths_since_rcnt_il           12934 non-null   float64\n",
      " 62  total_bal_il                 13288 non-null   float64\n",
      " 63  il_util                      11609 non-null   float64\n",
      " 64  open_rv_12m                  13288 non-null   float64\n",
      " 65  open_rv_24m                  13288 non-null   float64\n",
      " 66  max_bal_bc                   13288 non-null   float64\n",
      " 67  all_util                     13288 non-null   float64\n",
      " 68  total_rev_hi_lim             788656 non-null  float64\n",
      " 69  inq_fi                       13288 non-null   float64\n",
      " 70  total_cu_tl                  13288 non-null   float64\n",
      " 71  inq_last_12m                 13288 non-null   float64\n",
      " 72  default_ind                  855969 non-null  int64  \n",
      "dtypes: float64(49), int64(3), object(21)\n",
      "memory usage: 476.7+ MB\n"
     ]
    }
   ],
   "source": [
    "data.info()"
   ]
  },
  {
   "cell_type": "markdown",
   "id": "5ac9a9e4",
   "metadata": {},
   "source": [
    "# FEATURES ENGINEERING"
   ]
  },
  {
   "cell_type": "markdown",
   "id": "1a7dd75d",
   "metadata": {},
   "source": [
    "## Dropping The Columns with NA Values "
   ]
  },
  {
   "cell_type": "code",
   "execution_count": 10,
   "id": "06e36d0a",
   "metadata": {},
   "outputs": [],
   "source": [
    "data = data.dropna(axis=1)"
   ]
  },
  {
   "cell_type": "code",
   "execution_count": 11,
   "id": "7a650d62",
   "metadata": {
    "scrolled": true
   },
   "outputs": [
    {
     "data": {
      "text/plain": [
       "(855969, 41)"
      ]
     },
     "execution_count": 11,
     "metadata": {},
     "output_type": "execute_result"
    }
   ],
   "source": [
    "## Checking Columns shape After Dropping The Columns with NaN Values\n",
    "\n",
    "data.shape"
   ]
  },
  {
   "cell_type": "markdown",
   "id": "2c7be3fa",
   "metadata": {},
   "source": [
    "## Checking If NaN Values Is Still Available In The Data"
   ]
  },
  {
   "cell_type": "code",
   "execution_count": 12,
   "id": "9cf9f5a7",
   "metadata": {},
   "outputs": [
    {
     "data": {
      "text/plain": [
       "id                         0\n",
       "member_id                  0\n",
       "loan_amnt                  0\n",
       "funded_amnt                0\n",
       "funded_amnt_inv            0\n",
       "term                       0\n",
       "int_rate                   0\n",
       "installment                0\n",
       "grade                      0\n",
       "sub_grade                  0\n",
       "home_ownership             0\n",
       "annual_inc                 0\n",
       "verification_status        0\n",
       "issue_d                    0\n",
       "pymnt_plan                 0\n",
       "purpose                    0\n",
       "zip_code                   0\n",
       "addr_state                 0\n",
       "dti                        0\n",
       "delinq_2yrs                0\n",
       "earliest_cr_line           0\n",
       "inq_last_6mths             0\n",
       "open_acc                   0\n",
       "pub_rec                    0\n",
       "revol_bal                  0\n",
       "total_acc                  0\n",
       "initial_list_status        0\n",
       "out_prncp                  0\n",
       "out_prncp_inv              0\n",
       "total_pymnt                0\n",
       "total_pymnt_inv            0\n",
       "total_rec_prncp            0\n",
       "total_rec_int              0\n",
       "total_rec_late_fee         0\n",
       "recoveries                 0\n",
       "collection_recovery_fee    0\n",
       "last_pymnt_amnt            0\n",
       "policy_code                0\n",
       "application_type           0\n",
       "acc_now_delinq             0\n",
       "default_ind                0\n",
       "dtype: int64"
      ]
     },
     "execution_count": 12,
     "metadata": {},
     "output_type": "execute_result"
    }
   ],
   "source": [
    "data.isnull().sum()"
   ]
  },
  {
   "cell_type": "code",
   "execution_count": 13,
   "id": "88b8a727",
   "metadata": {},
   "outputs": [
    {
     "data": {
      "text/html": [
       "<div>\n",
       "<style scoped>\n",
       "    .dataframe tbody tr th:only-of-type {\n",
       "        vertical-align: middle;\n",
       "    }\n",
       "\n",
       "    .dataframe tbody tr th {\n",
       "        vertical-align: top;\n",
       "    }\n",
       "\n",
       "    .dataframe thead th {\n",
       "        text-align: right;\n",
       "    }\n",
       "</style>\n",
       "<table border=\"1\" class=\"dataframe\">\n",
       "  <thead>\n",
       "    <tr style=\"text-align: right;\">\n",
       "      <th></th>\n",
       "      <th>id</th>\n",
       "      <th>member_id</th>\n",
       "      <th>loan_amnt</th>\n",
       "      <th>funded_amnt</th>\n",
       "      <th>funded_amnt_inv</th>\n",
       "      <th>term</th>\n",
       "      <th>int_rate</th>\n",
       "      <th>installment</th>\n",
       "      <th>grade</th>\n",
       "      <th>sub_grade</th>\n",
       "      <th>...</th>\n",
       "      <th>total_rec_prncp</th>\n",
       "      <th>total_rec_int</th>\n",
       "      <th>total_rec_late_fee</th>\n",
       "      <th>recoveries</th>\n",
       "      <th>collection_recovery_fee</th>\n",
       "      <th>last_pymnt_amnt</th>\n",
       "      <th>policy_code</th>\n",
       "      <th>application_type</th>\n",
       "      <th>acc_now_delinq</th>\n",
       "      <th>default_ind</th>\n",
       "    </tr>\n",
       "  </thead>\n",
       "  <tbody>\n",
       "    <tr>\n",
       "      <th>0</th>\n",
       "      <td>1077501</td>\n",
       "      <td>1296599</td>\n",
       "      <td>5000.0</td>\n",
       "      <td>5000.0</td>\n",
       "      <td>4975.0</td>\n",
       "      <td>36 months</td>\n",
       "      <td>10.65</td>\n",
       "      <td>162.87</td>\n",
       "      <td>B</td>\n",
       "      <td>B2</td>\n",
       "      <td>...</td>\n",
       "      <td>5000.00</td>\n",
       "      <td>861.07</td>\n",
       "      <td>0.00</td>\n",
       "      <td>0.00</td>\n",
       "      <td>0.00</td>\n",
       "      <td>171.62</td>\n",
       "      <td>1.0</td>\n",
       "      <td>INDIVIDUAL</td>\n",
       "      <td>0.0</td>\n",
       "      <td>0</td>\n",
       "    </tr>\n",
       "    <tr>\n",
       "      <th>1</th>\n",
       "      <td>1077430</td>\n",
       "      <td>1314167</td>\n",
       "      <td>2500.0</td>\n",
       "      <td>2500.0</td>\n",
       "      <td>2500.0</td>\n",
       "      <td>60 months</td>\n",
       "      <td>15.27</td>\n",
       "      <td>59.83</td>\n",
       "      <td>C</td>\n",
       "      <td>C4</td>\n",
       "      <td>...</td>\n",
       "      <td>456.46</td>\n",
       "      <td>435.17</td>\n",
       "      <td>0.00</td>\n",
       "      <td>117.08</td>\n",
       "      <td>1.11</td>\n",
       "      <td>119.66</td>\n",
       "      <td>1.0</td>\n",
       "      <td>INDIVIDUAL</td>\n",
       "      <td>0.0</td>\n",
       "      <td>1</td>\n",
       "    </tr>\n",
       "    <tr>\n",
       "      <th>2</th>\n",
       "      <td>1077175</td>\n",
       "      <td>1313524</td>\n",
       "      <td>2400.0</td>\n",
       "      <td>2400.0</td>\n",
       "      <td>2400.0</td>\n",
       "      <td>36 months</td>\n",
       "      <td>15.96</td>\n",
       "      <td>84.33</td>\n",
       "      <td>C</td>\n",
       "      <td>C5</td>\n",
       "      <td>...</td>\n",
       "      <td>2400.00</td>\n",
       "      <td>603.65</td>\n",
       "      <td>0.00</td>\n",
       "      <td>0.00</td>\n",
       "      <td>0.00</td>\n",
       "      <td>649.91</td>\n",
       "      <td>1.0</td>\n",
       "      <td>INDIVIDUAL</td>\n",
       "      <td>0.0</td>\n",
       "      <td>0</td>\n",
       "    </tr>\n",
       "    <tr>\n",
       "      <th>3</th>\n",
       "      <td>1076863</td>\n",
       "      <td>1277178</td>\n",
       "      <td>10000.0</td>\n",
       "      <td>10000.0</td>\n",
       "      <td>10000.0</td>\n",
       "      <td>36 months</td>\n",
       "      <td>13.49</td>\n",
       "      <td>339.31</td>\n",
       "      <td>C</td>\n",
       "      <td>C1</td>\n",
       "      <td>...</td>\n",
       "      <td>10000.00</td>\n",
       "      <td>2209.33</td>\n",
       "      <td>16.97</td>\n",
       "      <td>0.00</td>\n",
       "      <td>0.00</td>\n",
       "      <td>357.48</td>\n",
       "      <td>1.0</td>\n",
       "      <td>INDIVIDUAL</td>\n",
       "      <td>0.0</td>\n",
       "      <td>0</td>\n",
       "    </tr>\n",
       "    <tr>\n",
       "      <th>4</th>\n",
       "      <td>1075358</td>\n",
       "      <td>1311748</td>\n",
       "      <td>3000.0</td>\n",
       "      <td>3000.0</td>\n",
       "      <td>3000.0</td>\n",
       "      <td>60 months</td>\n",
       "      <td>12.69</td>\n",
       "      <td>67.79</td>\n",
       "      <td>B</td>\n",
       "      <td>B5</td>\n",
       "      <td>...</td>\n",
       "      <td>2233.10</td>\n",
       "      <td>1009.07</td>\n",
       "      <td>0.00</td>\n",
       "      <td>0.00</td>\n",
       "      <td>0.00</td>\n",
       "      <td>67.79</td>\n",
       "      <td>1.0</td>\n",
       "      <td>INDIVIDUAL</td>\n",
       "      <td>0.0</td>\n",
       "      <td>0</td>\n",
       "    </tr>\n",
       "  </tbody>\n",
       "</table>\n",
       "<p>5 rows × 41 columns</p>\n",
       "</div>"
      ],
      "text/plain": [
       "        id  member_id  loan_amnt  funded_amnt  funded_amnt_inv        term  \\\n",
       "0  1077501    1296599     5000.0       5000.0           4975.0   36 months   \n",
       "1  1077430    1314167     2500.0       2500.0           2500.0   60 months   \n",
       "2  1077175    1313524     2400.0       2400.0           2400.0   36 months   \n",
       "3  1076863    1277178    10000.0      10000.0          10000.0   36 months   \n",
       "4  1075358    1311748     3000.0       3000.0           3000.0   60 months   \n",
       "\n",
       "   int_rate  installment grade sub_grade  ... total_rec_prncp  total_rec_int  \\\n",
       "0     10.65       162.87     B        B2  ...         5000.00         861.07   \n",
       "1     15.27        59.83     C        C4  ...          456.46         435.17   \n",
       "2     15.96        84.33     C        C5  ...         2400.00         603.65   \n",
       "3     13.49       339.31     C        C1  ...        10000.00        2209.33   \n",
       "4     12.69        67.79     B        B5  ...         2233.10        1009.07   \n",
       "\n",
       "  total_rec_late_fee recoveries collection_recovery_fee last_pymnt_amnt  \\\n",
       "0               0.00       0.00                    0.00          171.62   \n",
       "1               0.00     117.08                    1.11          119.66   \n",
       "2               0.00       0.00                    0.00          649.91   \n",
       "3              16.97       0.00                    0.00          357.48   \n",
       "4               0.00       0.00                    0.00           67.79   \n",
       "\n",
       "  policy_code application_type  acc_now_delinq  default_ind  \n",
       "0         1.0       INDIVIDUAL             0.0            0  \n",
       "1         1.0       INDIVIDUAL             0.0            1  \n",
       "2         1.0       INDIVIDUAL             0.0            0  \n",
       "3         1.0       INDIVIDUAL             0.0            0  \n",
       "4         1.0       INDIVIDUAL             0.0            0  \n",
       "\n",
       "[5 rows x 41 columns]"
      ]
     },
     "execution_count": 13,
     "metadata": {},
     "output_type": "execute_result"
    }
   ],
   "source": [
    "data.head()"
   ]
  },
  {
   "cell_type": "markdown",
   "id": "25e4f218",
   "metadata": {},
   "source": [
    "## Setting And Sorting The \" Issue_d \" as The Column Index "
   ]
  },
  {
   "cell_type": "code",
   "execution_count": 14,
   "id": "e07a1b68",
   "metadata": {},
   "outputs": [],
   "source": [
    "data.set_index(data['issue_d'], inplace=True)"
   ]
  },
  {
   "cell_type": "code",
   "execution_count": 15,
   "id": "2e1b4969",
   "metadata": {},
   "outputs": [
    {
     "data": {
      "text/plain": [
       "issue_d\n",
       "Dec-2011    Dec-2011\n",
       "Dec-2011    Dec-2011\n",
       "Dec-2011    Dec-2011\n",
       "Dec-2011    Dec-2011\n",
       "Dec-2011    Dec-2011\n",
       "Name: issue_d, dtype: object"
      ]
     },
     "execution_count": 15,
     "metadata": {},
     "output_type": "execute_result"
    }
   ],
   "source": [
    "data['issue_d'].head()"
   ]
  },
  {
   "cell_type": "markdown",
   "id": "246e6cbe",
   "metadata": {},
   "source": [
    "## Sorting The Index Column In Ascending Order"
   ]
  },
  {
   "cell_type": "code",
   "execution_count": 16,
   "id": "f1ff73cc",
   "metadata": {},
   "outputs": [],
   "source": [
    "data.sort_index(axis=0, inplace=True)"
   ]
  },
  {
   "cell_type": "code",
   "execution_count": 17,
   "id": "cfa71c9d",
   "metadata": {
    "scrolled": false
   },
   "outputs": [
    {
     "data": {
      "text/html": [
       "<div>\n",
       "<style scoped>\n",
       "    .dataframe tbody tr th:only-of-type {\n",
       "        vertical-align: middle;\n",
       "    }\n",
       "\n",
       "    .dataframe tbody tr th {\n",
       "        vertical-align: top;\n",
       "    }\n",
       "\n",
       "    .dataframe thead th {\n",
       "        text-align: right;\n",
       "    }\n",
       "</style>\n",
       "<table border=\"1\" class=\"dataframe\">\n",
       "  <thead>\n",
       "    <tr style=\"text-align: right;\">\n",
       "      <th></th>\n",
       "      <th>id</th>\n",
       "      <th>member_id</th>\n",
       "      <th>loan_amnt</th>\n",
       "      <th>funded_amnt</th>\n",
       "      <th>funded_amnt_inv</th>\n",
       "      <th>term</th>\n",
       "      <th>int_rate</th>\n",
       "      <th>installment</th>\n",
       "      <th>grade</th>\n",
       "      <th>sub_grade</th>\n",
       "      <th>...</th>\n",
       "      <th>total_rec_prncp</th>\n",
       "      <th>total_rec_int</th>\n",
       "      <th>total_rec_late_fee</th>\n",
       "      <th>recoveries</th>\n",
       "      <th>collection_recovery_fee</th>\n",
       "      <th>last_pymnt_amnt</th>\n",
       "      <th>policy_code</th>\n",
       "      <th>application_type</th>\n",
       "      <th>acc_now_delinq</th>\n",
       "      <th>default_ind</th>\n",
       "    </tr>\n",
       "    <tr>\n",
       "      <th>issue_d</th>\n",
       "      <th></th>\n",
       "      <th></th>\n",
       "      <th></th>\n",
       "      <th></th>\n",
       "      <th></th>\n",
       "      <th></th>\n",
       "      <th></th>\n",
       "      <th></th>\n",
       "      <th></th>\n",
       "      <th></th>\n",
       "      <th></th>\n",
       "      <th></th>\n",
       "      <th></th>\n",
       "      <th></th>\n",
       "      <th></th>\n",
       "      <th></th>\n",
       "      <th></th>\n",
       "      <th></th>\n",
       "      <th></th>\n",
       "      <th></th>\n",
       "      <th></th>\n",
       "    </tr>\n",
       "  </thead>\n",
       "  <tbody>\n",
       "    <tr>\n",
       "      <th>Apr-2008</th>\n",
       "      <td>331459</td>\n",
       "      <td>331426</td>\n",
       "      <td>6400.0</td>\n",
       "      <td>6400.0</td>\n",
       "      <td>6400.00</td>\n",
       "      <td>36 months</td>\n",
       "      <td>10.39</td>\n",
       "      <td>207.69</td>\n",
       "      <td>B</td>\n",
       "      <td>B4</td>\n",
       "      <td>...</td>\n",
       "      <td>6400.00</td>\n",
       "      <td>1076.46</td>\n",
       "      <td>0.0</td>\n",
       "      <td>0.0</td>\n",
       "      <td>0.0</td>\n",
       "      <td>208.38</td>\n",
       "      <td>1.0</td>\n",
       "      <td>INDIVIDUAL</td>\n",
       "      <td>0.0</td>\n",
       "      <td>0</td>\n",
       "    </tr>\n",
       "    <tr>\n",
       "      <th>Apr-2008</th>\n",
       "      <td>317597</td>\n",
       "      <td>317594</td>\n",
       "      <td>4500.0</td>\n",
       "      <td>4500.0</td>\n",
       "      <td>1446.50</td>\n",
       "      <td>36 months</td>\n",
       "      <td>11.97</td>\n",
       "      <td>149.40</td>\n",
       "      <td>C</td>\n",
       "      <td>C4</td>\n",
       "      <td>...</td>\n",
       "      <td>4499.99</td>\n",
       "      <td>878.41</td>\n",
       "      <td>0.0</td>\n",
       "      <td>0.0</td>\n",
       "      <td>0.0</td>\n",
       "      <td>149.40</td>\n",
       "      <td>1.0</td>\n",
       "      <td>INDIVIDUAL</td>\n",
       "      <td>0.0</td>\n",
       "      <td>0</td>\n",
       "    </tr>\n",
       "    <tr>\n",
       "      <th>Apr-2008</th>\n",
       "      <td>320231</td>\n",
       "      <td>320222</td>\n",
       "      <td>10000.0</td>\n",
       "      <td>10000.0</td>\n",
       "      <td>3650.62</td>\n",
       "      <td>36 months</td>\n",
       "      <td>10.08</td>\n",
       "      <td>323.05</td>\n",
       "      <td>B</td>\n",
       "      <td>B3</td>\n",
       "      <td>...</td>\n",
       "      <td>10000.00</td>\n",
       "      <td>1628.15</td>\n",
       "      <td>0.0</td>\n",
       "      <td>0.0</td>\n",
       "      <td>0.0</td>\n",
       "      <td>334.73</td>\n",
       "      <td>1.0</td>\n",
       "      <td>INDIVIDUAL</td>\n",
       "      <td>0.0</td>\n",
       "      <td>0</td>\n",
       "    </tr>\n",
       "    <tr>\n",
       "      <th>Apr-2008</th>\n",
       "      <td>319964</td>\n",
       "      <td>319922</td>\n",
       "      <td>5700.0</td>\n",
       "      <td>5700.0</td>\n",
       "      <td>4925.00</td>\n",
       "      <td>36 months</td>\n",
       "      <td>10.39</td>\n",
       "      <td>184.97</td>\n",
       "      <td>B</td>\n",
       "      <td>B4</td>\n",
       "      <td>...</td>\n",
       "      <td>5700.00</td>\n",
       "      <td>319.22</td>\n",
       "      <td>0.0</td>\n",
       "      <td>0.0</td>\n",
       "      <td>0.0</td>\n",
       "      <td>725.79</td>\n",
       "      <td>1.0</td>\n",
       "      <td>INDIVIDUAL</td>\n",
       "      <td>0.0</td>\n",
       "      <td>0</td>\n",
       "    </tr>\n",
       "    <tr>\n",
       "      <th>Apr-2008</th>\n",
       "      <td>319299</td>\n",
       "      <td>319296</td>\n",
       "      <td>4075.0</td>\n",
       "      <td>4075.0</td>\n",
       "      <td>4050.00</td>\n",
       "      <td>36 months</td>\n",
       "      <td>8.32</td>\n",
       "      <td>128.30</td>\n",
       "      <td>A</td>\n",
       "      <td>A4</td>\n",
       "      <td>...</td>\n",
       "      <td>4075.00</td>\n",
       "      <td>207.55</td>\n",
       "      <td>0.0</td>\n",
       "      <td>0.0</td>\n",
       "      <td>0.0</td>\n",
       "      <td>123.61</td>\n",
       "      <td>1.0</td>\n",
       "      <td>INDIVIDUAL</td>\n",
       "      <td>0.0</td>\n",
       "      <td>0</td>\n",
       "    </tr>\n",
       "  </tbody>\n",
       "</table>\n",
       "<p>5 rows × 41 columns</p>\n",
       "</div>"
      ],
      "text/plain": [
       "              id  member_id  loan_amnt  funded_amnt  funded_amnt_inv  \\\n",
       "issue_d                                                                \n",
       "Apr-2008  331459     331426     6400.0       6400.0          6400.00   \n",
       "Apr-2008  317597     317594     4500.0       4500.0          1446.50   \n",
       "Apr-2008  320231     320222    10000.0      10000.0          3650.62   \n",
       "Apr-2008  319964     319922     5700.0       5700.0          4925.00   \n",
       "Apr-2008  319299     319296     4075.0       4075.0          4050.00   \n",
       "\n",
       "                term  int_rate  installment grade sub_grade  ...  \\\n",
       "issue_d                                                      ...   \n",
       "Apr-2008   36 months     10.39       207.69     B        B4  ...   \n",
       "Apr-2008   36 months     11.97       149.40     C        C4  ...   \n",
       "Apr-2008   36 months     10.08       323.05     B        B3  ...   \n",
       "Apr-2008   36 months     10.39       184.97     B        B4  ...   \n",
       "Apr-2008   36 months      8.32       128.30     A        A4  ...   \n",
       "\n",
       "         total_rec_prncp  total_rec_int total_rec_late_fee recoveries  \\\n",
       "issue_d                                                                 \n",
       "Apr-2008         6400.00        1076.46                0.0        0.0   \n",
       "Apr-2008         4499.99         878.41                0.0        0.0   \n",
       "Apr-2008        10000.00        1628.15                0.0        0.0   \n",
       "Apr-2008         5700.00         319.22                0.0        0.0   \n",
       "Apr-2008         4075.00         207.55                0.0        0.0   \n",
       "\n",
       "         collection_recovery_fee last_pymnt_amnt policy_code application_type  \\\n",
       "issue_d                                                                         \n",
       "Apr-2008                     0.0          208.38         1.0       INDIVIDUAL   \n",
       "Apr-2008                     0.0          149.40         1.0       INDIVIDUAL   \n",
       "Apr-2008                     0.0          334.73         1.0       INDIVIDUAL   \n",
       "Apr-2008                     0.0          725.79         1.0       INDIVIDUAL   \n",
       "Apr-2008                     0.0          123.61         1.0       INDIVIDUAL   \n",
       "\n",
       "          acc_now_delinq  default_ind  \n",
       "issue_d                                \n",
       "Apr-2008             0.0            0  \n",
       "Apr-2008             0.0            0  \n",
       "Apr-2008             0.0            0  \n",
       "Apr-2008             0.0            0  \n",
       "Apr-2008             0.0            0  \n",
       "\n",
       "[5 rows x 41 columns]"
      ]
     },
     "execution_count": 17,
     "metadata": {},
     "output_type": "execute_result"
    }
   ],
   "source": [
    "data.head()"
   ]
  },
  {
   "cell_type": "code",
   "execution_count": 18,
   "id": "33467615",
   "metadata": {
    "scrolled": false
   },
   "outputs": [
    {
     "data": {
      "text/plain": [
       "array(['Apr-2008', 'Apr-2009', 'Apr-2010', 'Apr-2011', 'Apr-2012',\n",
       "       'Apr-2013', 'Apr-2014', 'Apr-2015', 'Aug-2007', 'Aug-2008',\n",
       "       'Aug-2009', 'Aug-2010', 'Aug-2011', 'Aug-2012', 'Aug-2013',\n",
       "       'Aug-2014', 'Aug-2015', 'Dec-2007', 'Dec-2008', 'Dec-2009',\n",
       "       'Dec-2010', 'Dec-2011', 'Dec-2012', 'Dec-2013', 'Dec-2014',\n",
       "       'Dec-2015', 'Feb-2008', 'Feb-2009', 'Feb-2010', 'Feb-2011',\n",
       "       'Feb-2012', 'Feb-2013', 'Feb-2014', 'Feb-2015', 'Jan-2008',\n",
       "       'Jan-2009', 'Jan-2010', 'Jan-2011', 'Jan-2012', 'Jan-2013',\n",
       "       'Jan-2014', 'Jan-2015', 'Jul-2007', 'Jul-2008', 'Jul-2009',\n",
       "       'Jul-2010', 'Jul-2011', 'Jul-2012', 'Jul-2013', 'Jul-2014',\n",
       "       'Jul-2015', 'Jun-2007', 'Jun-2008', 'Jun-2009', 'Jun-2010',\n",
       "       'Jun-2011', 'Jun-2012', 'Jun-2013', 'Jun-2014', 'Jun-2015',\n",
       "       'Mar-2008', 'Mar-2009', 'Mar-2010', 'Mar-2011', 'Mar-2012',\n",
       "       'Mar-2013', 'Mar-2014', 'Mar-2015', 'May-2008', 'May-2009',\n",
       "       'May-2010', 'May-2011', 'May-2012', 'May-2013', 'May-2014',\n",
       "       'May-2015', 'Nov-2007', 'Nov-2008', 'Nov-2009', 'Nov-2010',\n",
       "       'Nov-2011', 'Nov-2012', 'Nov-2013', 'Nov-2014', 'Nov-2015',\n",
       "       'Oct-2007', 'Oct-2008', 'Oct-2009', 'Oct-2010', 'Oct-2011',\n",
       "       'Oct-2012', 'Oct-2013', 'Oct-2014', 'Oct-2015', 'Sep-2007',\n",
       "       'Sep-2008', 'Sep-2009', 'Sep-2010', 'Sep-2011', 'Sep-2012',\n",
       "       'Sep-2013', 'Sep-2014', 'Sep-2015'], dtype=object)"
      ]
     },
     "execution_count": 18,
     "metadata": {},
     "output_type": "execute_result"
    }
   ],
   "source": [
    "data['issue_d'].unique()"
   ]
  },
  {
   "cell_type": "markdown",
   "id": "4e5287de",
   "metadata": {},
   "source": [
    "## Features And Target Variable Selection"
   ]
  },
  {
   "cell_type": "code",
   "execution_count": 19,
   "id": "e79e2aff",
   "metadata": {},
   "outputs": [],
   "source": [
    "X = data.drop(columns=['default_ind', 'id', 'member_id', 'zip_code', 'addr_state', 'earliest_cr_line', 'issue_d'])"
   ]
  },
  {
   "cell_type": "code",
   "execution_count": 20,
   "id": "5d208274",
   "metadata": {},
   "outputs": [],
   "source": [
    "y = data['default_ind']"
   ]
  },
  {
   "cell_type": "code",
   "execution_count": 21,
   "id": "3c6fc546",
   "metadata": {
    "scrolled": false
   },
   "outputs": [
    {
     "data": {
      "text/html": [
       "<div>\n",
       "<style scoped>\n",
       "    .dataframe tbody tr th:only-of-type {\n",
       "        vertical-align: middle;\n",
       "    }\n",
       "\n",
       "    .dataframe tbody tr th {\n",
       "        vertical-align: top;\n",
       "    }\n",
       "\n",
       "    .dataframe thead th {\n",
       "        text-align: right;\n",
       "    }\n",
       "</style>\n",
       "<table border=\"1\" class=\"dataframe\">\n",
       "  <thead>\n",
       "    <tr style=\"text-align: right;\">\n",
       "      <th></th>\n",
       "      <th>loan_amnt</th>\n",
       "      <th>funded_amnt</th>\n",
       "      <th>funded_amnt_inv</th>\n",
       "      <th>term</th>\n",
       "      <th>int_rate</th>\n",
       "      <th>installment</th>\n",
       "      <th>grade</th>\n",
       "      <th>sub_grade</th>\n",
       "      <th>home_ownership</th>\n",
       "      <th>annual_inc</th>\n",
       "      <th>...</th>\n",
       "      <th>total_pymnt_inv</th>\n",
       "      <th>total_rec_prncp</th>\n",
       "      <th>total_rec_int</th>\n",
       "      <th>total_rec_late_fee</th>\n",
       "      <th>recoveries</th>\n",
       "      <th>collection_recovery_fee</th>\n",
       "      <th>last_pymnt_amnt</th>\n",
       "      <th>policy_code</th>\n",
       "      <th>application_type</th>\n",
       "      <th>acc_now_delinq</th>\n",
       "    </tr>\n",
       "    <tr>\n",
       "      <th>issue_d</th>\n",
       "      <th></th>\n",
       "      <th></th>\n",
       "      <th></th>\n",
       "      <th></th>\n",
       "      <th></th>\n",
       "      <th></th>\n",
       "      <th></th>\n",
       "      <th></th>\n",
       "      <th></th>\n",
       "      <th></th>\n",
       "      <th></th>\n",
       "      <th></th>\n",
       "      <th></th>\n",
       "      <th></th>\n",
       "      <th></th>\n",
       "      <th></th>\n",
       "      <th></th>\n",
       "      <th></th>\n",
       "      <th></th>\n",
       "      <th></th>\n",
       "      <th></th>\n",
       "    </tr>\n",
       "  </thead>\n",
       "  <tbody>\n",
       "    <tr>\n",
       "      <th>Apr-2008</th>\n",
       "      <td>6400.0</td>\n",
       "      <td>6400.0</td>\n",
       "      <td>6400.00</td>\n",
       "      <td>36 months</td>\n",
       "      <td>10.39</td>\n",
       "      <td>207.69</td>\n",
       "      <td>B</td>\n",
       "      <td>B4</td>\n",
       "      <td>RENT</td>\n",
       "      <td>87000.0</td>\n",
       "      <td>...</td>\n",
       "      <td>7476.46</td>\n",
       "      <td>6400.00</td>\n",
       "      <td>1076.46</td>\n",
       "      <td>0.0</td>\n",
       "      <td>0.0</td>\n",
       "      <td>0.0</td>\n",
       "      <td>208.38</td>\n",
       "      <td>1.0</td>\n",
       "      <td>INDIVIDUAL</td>\n",
       "      <td>0.0</td>\n",
       "    </tr>\n",
       "    <tr>\n",
       "      <th>Apr-2008</th>\n",
       "      <td>4500.0</td>\n",
       "      <td>4500.0</td>\n",
       "      <td>1446.50</td>\n",
       "      <td>36 months</td>\n",
       "      <td>11.97</td>\n",
       "      <td>149.40</td>\n",
       "      <td>C</td>\n",
       "      <td>C4</td>\n",
       "      <td>MORTGAGE</td>\n",
       "      <td>115200.0</td>\n",
       "      <td>...</td>\n",
       "      <td>1713.12</td>\n",
       "      <td>4499.99</td>\n",
       "      <td>878.41</td>\n",
       "      <td>0.0</td>\n",
       "      <td>0.0</td>\n",
       "      <td>0.0</td>\n",
       "      <td>149.40</td>\n",
       "      <td>1.0</td>\n",
       "      <td>INDIVIDUAL</td>\n",
       "      <td>0.0</td>\n",
       "    </tr>\n",
       "    <tr>\n",
       "      <th>Apr-2008</th>\n",
       "      <td>10000.0</td>\n",
       "      <td>10000.0</td>\n",
       "      <td>3650.62</td>\n",
       "      <td>36 months</td>\n",
       "      <td>10.08</td>\n",
       "      <td>323.05</td>\n",
       "      <td>B</td>\n",
       "      <td>B3</td>\n",
       "      <td>RENT</td>\n",
       "      <td>35665.0</td>\n",
       "      <td>...</td>\n",
       "      <td>4063.96</td>\n",
       "      <td>10000.00</td>\n",
       "      <td>1628.15</td>\n",
       "      <td>0.0</td>\n",
       "      <td>0.0</td>\n",
       "      <td>0.0</td>\n",
       "      <td>334.73</td>\n",
       "      <td>1.0</td>\n",
       "      <td>INDIVIDUAL</td>\n",
       "      <td>0.0</td>\n",
       "    </tr>\n",
       "    <tr>\n",
       "      <th>Apr-2008</th>\n",
       "      <td>5700.0</td>\n",
       "      <td>5700.0</td>\n",
       "      <td>4925.00</td>\n",
       "      <td>36 months</td>\n",
       "      <td>10.39</td>\n",
       "      <td>184.97</td>\n",
       "      <td>B</td>\n",
       "      <td>B4</td>\n",
       "      <td>RENT</td>\n",
       "      <td>36000.0</td>\n",
       "      <td>...</td>\n",
       "      <td>5200.81</td>\n",
       "      <td>5700.00</td>\n",
       "      <td>319.22</td>\n",
       "      <td>0.0</td>\n",
       "      <td>0.0</td>\n",
       "      <td>0.0</td>\n",
       "      <td>725.79</td>\n",
       "      <td>1.0</td>\n",
       "      <td>INDIVIDUAL</td>\n",
       "      <td>0.0</td>\n",
       "    </tr>\n",
       "    <tr>\n",
       "      <th>Apr-2008</th>\n",
       "      <td>4075.0</td>\n",
       "      <td>4075.0</td>\n",
       "      <td>4050.00</td>\n",
       "      <td>36 months</td>\n",
       "      <td>8.32</td>\n",
       "      <td>128.30</td>\n",
       "      <td>A</td>\n",
       "      <td>A4</td>\n",
       "      <td>RENT</td>\n",
       "      <td>19200.0</td>\n",
       "      <td>...</td>\n",
       "      <td>4256.28</td>\n",
       "      <td>4075.00</td>\n",
       "      <td>207.55</td>\n",
       "      <td>0.0</td>\n",
       "      <td>0.0</td>\n",
       "      <td>0.0</td>\n",
       "      <td>123.61</td>\n",
       "      <td>1.0</td>\n",
       "      <td>INDIVIDUAL</td>\n",
       "      <td>0.0</td>\n",
       "    </tr>\n",
       "  </tbody>\n",
       "</table>\n",
       "<p>5 rows × 34 columns</p>\n",
       "</div>"
      ],
      "text/plain": [
       "          loan_amnt  funded_amnt  funded_amnt_inv        term  int_rate  \\\n",
       "issue_d                                                                   \n",
       "Apr-2008     6400.0       6400.0          6400.00   36 months     10.39   \n",
       "Apr-2008     4500.0       4500.0          1446.50   36 months     11.97   \n",
       "Apr-2008    10000.0      10000.0          3650.62   36 months     10.08   \n",
       "Apr-2008     5700.0       5700.0          4925.00   36 months     10.39   \n",
       "Apr-2008     4075.0       4075.0          4050.00   36 months      8.32   \n",
       "\n",
       "          installment grade sub_grade home_ownership  annual_inc  ...  \\\n",
       "issue_d                                                           ...   \n",
       "Apr-2008       207.69     B        B4           RENT     87000.0  ...   \n",
       "Apr-2008       149.40     C        C4       MORTGAGE    115200.0  ...   \n",
       "Apr-2008       323.05     B        B3           RENT     35665.0  ...   \n",
       "Apr-2008       184.97     B        B4           RENT     36000.0  ...   \n",
       "Apr-2008       128.30     A        A4           RENT     19200.0  ...   \n",
       "\n",
       "         total_pymnt_inv total_rec_prncp total_rec_int  total_rec_late_fee  \\\n",
       "issue_d                                                                      \n",
       "Apr-2008         7476.46         6400.00       1076.46                 0.0   \n",
       "Apr-2008         1713.12         4499.99        878.41                 0.0   \n",
       "Apr-2008         4063.96        10000.00       1628.15                 0.0   \n",
       "Apr-2008         5200.81         5700.00        319.22                 0.0   \n",
       "Apr-2008         4256.28         4075.00        207.55                 0.0   \n",
       "\n",
       "          recoveries  collection_recovery_fee  last_pymnt_amnt  policy_code  \\\n",
       "issue_d                                                                       \n",
       "Apr-2008         0.0                      0.0           208.38          1.0   \n",
       "Apr-2008         0.0                      0.0           149.40          1.0   \n",
       "Apr-2008         0.0                      0.0           334.73          1.0   \n",
       "Apr-2008         0.0                      0.0           725.79          1.0   \n",
       "Apr-2008         0.0                      0.0           123.61          1.0   \n",
       "\n",
       "          application_type  acc_now_delinq  \n",
       "issue_d                                     \n",
       "Apr-2008        INDIVIDUAL             0.0  \n",
       "Apr-2008        INDIVIDUAL             0.0  \n",
       "Apr-2008        INDIVIDUAL             0.0  \n",
       "Apr-2008        INDIVIDUAL             0.0  \n",
       "Apr-2008        INDIVIDUAL             0.0  \n",
       "\n",
       "[5 rows x 34 columns]"
      ]
     },
     "execution_count": 21,
     "metadata": {},
     "output_type": "execute_result"
    }
   ],
   "source": [
    "X.head()"
   ]
  },
  {
   "cell_type": "markdown",
   "id": "b330f580",
   "metadata": {},
   "source": [
    "### Replacing Columns with Binary Objects ( pymnt_plan & initial_list_status )  with  with 0 and 1 Respectively"
   ]
  },
  {
   "cell_type": "code",
   "execution_count": 22,
   "id": "58d191c8",
   "metadata": {},
   "outputs": [],
   "source": [
    "X['pymnt_plan'] = X['pymnt_plan'].replace('n', 0)\n",
    "X['pymnt_plan'] = X['pymnt_plan'].replace('y', 1)"
   ]
  },
  {
   "cell_type": "code",
   "execution_count": 23,
   "id": "8d95429b",
   "metadata": {},
   "outputs": [
    {
     "data": {
      "text/plain": [
       "array([0, 1], dtype=int64)"
      ]
     },
     "execution_count": 23,
     "metadata": {},
     "output_type": "execute_result"
    }
   ],
   "source": [
    "X['pymnt_plan'].unique()"
   ]
  },
  {
   "cell_type": "code",
   "execution_count": 24,
   "id": "0027238b",
   "metadata": {
    "scrolled": true
   },
   "outputs": [
    {
     "data": {
      "text/plain": [
       "dtype('int64')"
      ]
     },
     "execution_count": 24,
     "metadata": {},
     "output_type": "execute_result"
    }
   ],
   "source": [
    "X['pymnt_plan'].dtype"
   ]
  },
  {
   "cell_type": "code",
   "execution_count": 25,
   "id": "bbec2df8",
   "metadata": {},
   "outputs": [],
   "source": [
    "X['initial_list_status'] = X['initial_list_status'].replace('f', 0)\n",
    "X['initial_list_status'] = X['initial_list_status'].replace('w', 1)"
   ]
  },
  {
   "cell_type": "code",
   "execution_count": 26,
   "id": "f8f790bb",
   "metadata": {},
   "outputs": [
    {
     "data": {
      "text/plain": [
       "array([0, 1], dtype=int64)"
      ]
     },
     "execution_count": 26,
     "metadata": {},
     "output_type": "execute_result"
    }
   ],
   "source": [
    "X['initial_list_status'].unique()"
   ]
  },
  {
   "cell_type": "markdown",
   "id": "fe04d1f9",
   "metadata": {},
   "source": [
    "### OneHotEncoding Object Columns into Categories Using Pandas"
   ]
  },
  {
   "cell_type": "code",
   "execution_count": 27,
   "id": "614726d3",
   "metadata": {},
   "outputs": [],
   "source": [
    "X_encode = pd.get_dummies(X, columns= ['term', 'grade', 'sub_grade', 'home_ownership', 'verification_status',  'purpose', 'application_type'])"
   ]
  },
  {
   "cell_type": "code",
   "execution_count": 28,
   "id": "bbbf9495",
   "metadata": {
    "scrolled": true
   },
   "outputs": [
    {
     "data": {
      "text/plain": [
       "dtype('float64')"
      ]
     },
     "execution_count": 28,
     "metadata": {},
     "output_type": "execute_result"
    }
   ],
   "source": [
    "X_encode['loan_amnt'].dtype"
   ]
  },
  {
   "cell_type": "code",
   "execution_count": 29,
   "id": "7206af69",
   "metadata": {
    "scrolled": true
   },
   "outputs": [
    {
     "data": {
      "text/html": [
       "<div>\n",
       "<style scoped>\n",
       "    .dataframe tbody tr th:only-of-type {\n",
       "        vertical-align: middle;\n",
       "    }\n",
       "\n",
       "    .dataframe tbody tr th {\n",
       "        vertical-align: top;\n",
       "    }\n",
       "\n",
       "    .dataframe thead th {\n",
       "        text-align: right;\n",
       "    }\n",
       "</style>\n",
       "<table border=\"1\" class=\"dataframe\">\n",
       "  <thead>\n",
       "    <tr style=\"text-align: right;\">\n",
       "      <th></th>\n",
       "      <th>loan_amnt</th>\n",
       "      <th>funded_amnt</th>\n",
       "      <th>funded_amnt_inv</th>\n",
       "      <th>int_rate</th>\n",
       "      <th>installment</th>\n",
       "      <th>annual_inc</th>\n",
       "      <th>pymnt_plan</th>\n",
       "      <th>dti</th>\n",
       "      <th>delinq_2yrs</th>\n",
       "      <th>inq_last_6mths</th>\n",
       "      <th>...</th>\n",
       "      <th>purpose_major_purchase</th>\n",
       "      <th>purpose_medical</th>\n",
       "      <th>purpose_moving</th>\n",
       "      <th>purpose_other</th>\n",
       "      <th>purpose_renewable_energy</th>\n",
       "      <th>purpose_small_business</th>\n",
       "      <th>purpose_vacation</th>\n",
       "      <th>purpose_wedding</th>\n",
       "      <th>application_type_INDIVIDUAL</th>\n",
       "      <th>application_type_JOINT</th>\n",
       "    </tr>\n",
       "    <tr>\n",
       "      <th>issue_d</th>\n",
       "      <th></th>\n",
       "      <th></th>\n",
       "      <th></th>\n",
       "      <th></th>\n",
       "      <th></th>\n",
       "      <th></th>\n",
       "      <th></th>\n",
       "      <th></th>\n",
       "      <th></th>\n",
       "      <th></th>\n",
       "      <th></th>\n",
       "      <th></th>\n",
       "      <th></th>\n",
       "      <th></th>\n",
       "      <th></th>\n",
       "      <th></th>\n",
       "      <th></th>\n",
       "      <th></th>\n",
       "      <th></th>\n",
       "      <th></th>\n",
       "      <th></th>\n",
       "    </tr>\n",
       "  </thead>\n",
       "  <tbody>\n",
       "    <tr>\n",
       "      <th>Apr-2008</th>\n",
       "      <td>6400.0</td>\n",
       "      <td>6400.0</td>\n",
       "      <td>6400.00</td>\n",
       "      <td>10.39</td>\n",
       "      <td>207.69</td>\n",
       "      <td>87000.0</td>\n",
       "      <td>0</td>\n",
       "      <td>14.79</td>\n",
       "      <td>0.0</td>\n",
       "      <td>2.0</td>\n",
       "      <td>...</td>\n",
       "      <td>0</td>\n",
       "      <td>0</td>\n",
       "      <td>0</td>\n",
       "      <td>0</td>\n",
       "      <td>0</td>\n",
       "      <td>0</td>\n",
       "      <td>0</td>\n",
       "      <td>0</td>\n",
       "      <td>1</td>\n",
       "      <td>0</td>\n",
       "    </tr>\n",
       "    <tr>\n",
       "      <th>Apr-2008</th>\n",
       "      <td>4500.0</td>\n",
       "      <td>4500.0</td>\n",
       "      <td>1446.50</td>\n",
       "      <td>11.97</td>\n",
       "      <td>149.40</td>\n",
       "      <td>115200.0</td>\n",
       "      <td>0</td>\n",
       "      <td>15.49</td>\n",
       "      <td>1.0</td>\n",
       "      <td>1.0</td>\n",
       "      <td>...</td>\n",
       "      <td>0</td>\n",
       "      <td>0</td>\n",
       "      <td>0</td>\n",
       "      <td>0</td>\n",
       "      <td>0</td>\n",
       "      <td>0</td>\n",
       "      <td>0</td>\n",
       "      <td>0</td>\n",
       "      <td>1</td>\n",
       "      <td>0</td>\n",
       "    </tr>\n",
       "    <tr>\n",
       "      <th>Apr-2008</th>\n",
       "      <td>10000.0</td>\n",
       "      <td>10000.0</td>\n",
       "      <td>3650.62</td>\n",
       "      <td>10.08</td>\n",
       "      <td>323.05</td>\n",
       "      <td>35665.0</td>\n",
       "      <td>0</td>\n",
       "      <td>21.57</td>\n",
       "      <td>0.0</td>\n",
       "      <td>0.0</td>\n",
       "      <td>...</td>\n",
       "      <td>0</td>\n",
       "      <td>0</td>\n",
       "      <td>0</td>\n",
       "      <td>0</td>\n",
       "      <td>0</td>\n",
       "      <td>0</td>\n",
       "      <td>0</td>\n",
       "      <td>0</td>\n",
       "      <td>1</td>\n",
       "      <td>0</td>\n",
       "    </tr>\n",
       "    <tr>\n",
       "      <th>Apr-2008</th>\n",
       "      <td>5700.0</td>\n",
       "      <td>5700.0</td>\n",
       "      <td>4925.00</td>\n",
       "      <td>10.39</td>\n",
       "      <td>184.97</td>\n",
       "      <td>36000.0</td>\n",
       "      <td>0</td>\n",
       "      <td>9.57</td>\n",
       "      <td>0.0</td>\n",
       "      <td>0.0</td>\n",
       "      <td>...</td>\n",
       "      <td>0</td>\n",
       "      <td>0</td>\n",
       "      <td>0</td>\n",
       "      <td>0</td>\n",
       "      <td>0</td>\n",
       "      <td>0</td>\n",
       "      <td>0</td>\n",
       "      <td>0</td>\n",
       "      <td>1</td>\n",
       "      <td>0</td>\n",
       "    </tr>\n",
       "    <tr>\n",
       "      <th>Apr-2008</th>\n",
       "      <td>4075.0</td>\n",
       "      <td>4075.0</td>\n",
       "      <td>4050.00</td>\n",
       "      <td>8.32</td>\n",
       "      <td>128.30</td>\n",
       "      <td>19200.0</td>\n",
       "      <td>0</td>\n",
       "      <td>1.25</td>\n",
       "      <td>0.0</td>\n",
       "      <td>0.0</td>\n",
       "      <td>...</td>\n",
       "      <td>0</td>\n",
       "      <td>0</td>\n",
       "      <td>0</td>\n",
       "      <td>0</td>\n",
       "      <td>0</td>\n",
       "      <td>0</td>\n",
       "      <td>0</td>\n",
       "      <td>0</td>\n",
       "      <td>1</td>\n",
       "      <td>0</td>\n",
       "    </tr>\n",
       "  </tbody>\n",
       "</table>\n",
       "<p>5 rows × 96 columns</p>\n",
       "</div>"
      ],
      "text/plain": [
       "          loan_amnt  funded_amnt  funded_amnt_inv  int_rate  installment  \\\n",
       "issue_d                                                                    \n",
       "Apr-2008     6400.0       6400.0          6400.00     10.39       207.69   \n",
       "Apr-2008     4500.0       4500.0          1446.50     11.97       149.40   \n",
       "Apr-2008    10000.0      10000.0          3650.62     10.08       323.05   \n",
       "Apr-2008     5700.0       5700.0          4925.00     10.39       184.97   \n",
       "Apr-2008     4075.0       4075.0          4050.00      8.32       128.30   \n",
       "\n",
       "          annual_inc  pymnt_plan    dti  delinq_2yrs  inq_last_6mths  ...  \\\n",
       "issue_d                                                               ...   \n",
       "Apr-2008     87000.0           0  14.79          0.0             2.0  ...   \n",
       "Apr-2008    115200.0           0  15.49          1.0             1.0  ...   \n",
       "Apr-2008     35665.0           0  21.57          0.0             0.0  ...   \n",
       "Apr-2008     36000.0           0   9.57          0.0             0.0  ...   \n",
       "Apr-2008     19200.0           0   1.25          0.0             0.0  ...   \n",
       "\n",
       "          purpose_major_purchase  purpose_medical  purpose_moving  \\\n",
       "issue_d                                                             \n",
       "Apr-2008                       0                0               0   \n",
       "Apr-2008                       0                0               0   \n",
       "Apr-2008                       0                0               0   \n",
       "Apr-2008                       0                0               0   \n",
       "Apr-2008                       0                0               0   \n",
       "\n",
       "          purpose_other  purpose_renewable_energy  purpose_small_business  \\\n",
       "issue_d                                                                     \n",
       "Apr-2008              0                         0                       0   \n",
       "Apr-2008              0                         0                       0   \n",
       "Apr-2008              0                         0                       0   \n",
       "Apr-2008              0                         0                       0   \n",
       "Apr-2008              0                         0                       0   \n",
       "\n",
       "          purpose_vacation  purpose_wedding  application_type_INDIVIDUAL  \\\n",
       "issue_d                                                                    \n",
       "Apr-2008                 0                0                            1   \n",
       "Apr-2008                 0                0                            1   \n",
       "Apr-2008                 0                0                            1   \n",
       "Apr-2008                 0                0                            1   \n",
       "Apr-2008                 0                0                            1   \n",
       "\n",
       "          application_type_JOINT  \n",
       "issue_d                           \n",
       "Apr-2008                       0  \n",
       "Apr-2008                       0  \n",
       "Apr-2008                       0  \n",
       "Apr-2008                       0  \n",
       "Apr-2008                       0  \n",
       "\n",
       "[5 rows x 96 columns]"
      ]
     },
     "execution_count": 29,
     "metadata": {},
     "output_type": "execute_result"
    }
   ],
   "source": [
    "X_encode.head()"
   ]
  },
  {
   "cell_type": "code",
   "execution_count": 30,
   "id": "f04de74f",
   "metadata": {},
   "outputs": [],
   "source": [
    "column = ['loan_amnt', 'funded_amnt', 'funded_amnt_inv', 'int_rate', 'installment', 'annual_inc', 'pymnt_plan', 'dti']"
   ]
  },
  {
   "cell_type": "code",
   "execution_count": 31,
   "id": "e1587df9",
   "metadata": {},
   "outputs": [
    {
     "data": {
      "text/plain": [
       "Index(['loan_amnt', 'funded_amnt', 'funded_amnt_inv', 'int_rate',\n",
       "       'installment', 'annual_inc', 'pymnt_plan', 'dti', 'delinq_2yrs',\n",
       "       'inq_last_6mths', 'open_acc', 'pub_rec', 'revol_bal', 'total_acc',\n",
       "       'initial_list_status', 'out_prncp', 'out_prncp_inv', 'total_pymnt',\n",
       "       'total_pymnt_inv', 'total_rec_prncp', 'total_rec_int',\n",
       "       'total_rec_late_fee', 'recoveries', 'collection_recovery_fee',\n",
       "       'last_pymnt_amnt', 'policy_code', 'acc_now_delinq', 'term_ 36 months',\n",
       "       'term_ 60 months', 'grade_A', 'grade_B', 'grade_C', 'grade_D',\n",
       "       'grade_E', 'grade_F', 'grade_G', 'sub_grade_A1', 'sub_grade_A2',\n",
       "       'sub_grade_A3', 'sub_grade_A4', 'sub_grade_A5', 'sub_grade_B1',\n",
       "       'sub_grade_B2', 'sub_grade_B3', 'sub_grade_B4', 'sub_grade_B5',\n",
       "       'sub_grade_C1', 'sub_grade_C2', 'sub_grade_C3', 'sub_grade_C4',\n",
       "       'sub_grade_C5', 'sub_grade_D1', 'sub_grade_D2', 'sub_grade_D3',\n",
       "       'sub_grade_D4', 'sub_grade_D5', 'sub_grade_E1', 'sub_grade_E2',\n",
       "       'sub_grade_E3', 'sub_grade_E4', 'sub_grade_E5', 'sub_grade_F1',\n",
       "       'sub_grade_F2', 'sub_grade_F3', 'sub_grade_F4', 'sub_grade_F5',\n",
       "       'sub_grade_G1', 'sub_grade_G2', 'sub_grade_G3', 'sub_grade_G4',\n",
       "       'sub_grade_G5', 'home_ownership_ANY', 'home_ownership_MORTGAGE',\n",
       "       'home_ownership_NONE', 'home_ownership_OTHER', 'home_ownership_OWN',\n",
       "       'home_ownership_RENT', 'verification_status_Not Verified',\n",
       "       'verification_status_Source Verified', 'verification_status_Verified',\n",
       "       'purpose_car', 'purpose_credit_card', 'purpose_debt_consolidation',\n",
       "       'purpose_educational', 'purpose_home_improvement', 'purpose_house',\n",
       "       'purpose_major_purchase', 'purpose_medical', 'purpose_moving',\n",
       "       'purpose_other', 'purpose_renewable_energy', 'purpose_small_business',\n",
       "       'purpose_vacation', 'purpose_wedding', 'application_type_INDIVIDUAL',\n",
       "       'application_type_JOINT'],\n",
       "      dtype='object')"
      ]
     },
     "execution_count": 31,
     "metadata": {},
     "output_type": "execute_result"
    }
   ],
   "source": [
    "X_encode.columns"
   ]
  },
  {
   "cell_type": "markdown",
   "id": "21af2bae",
   "metadata": {},
   "source": [
    "## Data Visualization"
   ]
  },
  {
   "cell_type": "code",
   "execution_count": 32,
   "id": "0b9f5871",
   "metadata": {},
   "outputs": [
    {
     "data": {
      "image/png": "[encoded data removed]",
      "text/plain": [
       "<Figure size 1152x504 with 1 Axes>"
      ]
     },
     "metadata": {
      "needs_background": "light"
     },
     "output_type": "display_data"
    },
    {
     "data": {
      "image/png": "[encoded data removed]",
      "text/plain": [
       "<Figure size 1152x504 with 1 Axes>"
      ]
     },
     "metadata": {
      "needs_background": "light"
     },
     "output_type": "display_data"
    },
    {
     "data": {
      "image/png": "[encoded data removed]",
      "text/plain": [
       "<Figure size 1152x504 with 1 Axes>"
      ]
     },
     "metadata": {
      "needs_background": "light"
     },
     "output_type": "display_data"
    },
    {
     "data": {
      "image/png": "[encoded data removed]",
      "text/plain": [
       "<Figure size 1152x504 with 1 Axes>"
      ]
     },
     "metadata": {
      "needs_background": "light"
     },
     "output_type": "display_data"
    },
    {
     "data": {
      "image/png": "[encoded data removed]",
      "text/plain": [
       "<Figure size 1152x504 with 1 Axes>"
      ]
     },
     "metadata": {
      "needs_background": "light"
     },
     "output_type": "display_data"
    },
    {
     "data": {
      "image/png": "[encoded data removed]",
      "text/plain": [
       "<Figure size 1152x504 with 1 Axes>"
      ]
     },
     "metadata": {
      "needs_background": "light"
     },
     "output_type": "display_data"
    },
    {
     "data": {
      "image/png": "[encoded data removed]",
      "text/plain": [
       "<Figure size 1152x504 with 1 Axes>"
      ]
     },
     "metadata": {
      "needs_background": "light"
     },
     "output_type": "display_data"
    },
    {
     "data": {
      "image/png": "[encoded data removed]",
      "text/plain": [
       "<Figure size 1152x504 with 1 Axes>"
      ]
     },
     "metadata": {
      "needs_background": "light"
     },
     "output_type": "display_data"
    },
    {
     "data": {
      "image/png": "[encoded data removed]",
      "text/plain": [
       "<Figure size 1152x504 with 1 Axes>"
      ]
     },
     "metadata": {
      "needs_background": "light"
     },
     "output_type": "display_data"
    },
    {
     "data": {
      "image/png": "[encoded data removed]",
      "text/plain": [
       "<Figure size 1152x504 with 1 Axes>"
      ]
     },
     "metadata": {
      "needs_background": "light"
     },
     "output_type": "display_data"
    },
    {
     "data": {
      "image/png": "[encoded data removed]",
      "text/plain": [
       "<Figure size 1152x504 with 1 Axes>"
      ]
     },
     "metadata": {
      "needs_background": "light"
     },
     "output_type": "display_data"
    },
    {
     "data": {
      "image/png": "[encoded data removed]",
      "text/plain": [
       "<Figure size 1152x504 with 1 Axes>"
      ]
     },
     "metadata": {
      "needs_background": "light"
     },
     "output_type": "display_data"
    },
    {
     "data": {
      "image/png": "[encoded data removed]",
      "text/plain": [
       "<Figure size 1152x504 with 1 Axes>"
      ]
     },
     "metadata": {
      "needs_background": "light"
     },
     "output_type": "display_data"
    },
    {
     "data": {
      "image/png": "[encoded data removed]",
      "text/plain": [
       "<Figure size 1152x504 with 1 Axes>"
      ]
     },
     "metadata": {
      "needs_background": "light"
     },
     "output_type": "display_data"
    },
    {
     "data": {
      "image/png": "[encoded data removed]",
      "text/plain": [
       "<Figure size 1152x504 with 1 Axes>"
      ]
     },
     "metadata": {
      "needs_background": "light"
     },
     "output_type": "display_data"
    },
    {
     "data": {
      "image/png": "[encoded data removed]",
      "text/plain": [
       "<Figure size 1152x504 with 1 Axes>"
      ]
     },
     "metadata": {
      "needs_background": "light"
     },
     "output_type": "display_data"
    },
    {
     "data": {
      "image/png": "[encoded data removed]",
      "text/plain": [
       "<Figure size 1152x504 with 1 Axes>"
      ]
     },
     "metadata": {
      "needs_background": "light"
     },
     "output_type": "display_data"
    },
    {
     "data": {
      "image/png": "[encoded data removed]",
      "text/plain": [
       "<Figure size 1152x504 with 1 Axes>"
      ]
     },
     "metadata": {
      "needs_background": "light"
     },
     "output_type": "display_data"
    },
    {
     "data": {
      "image/png": "[encoded data removed]",
      "text/plain": [
       "<Figure size 1152x504 with 1 Axes>"
      ]
     },
     "metadata": {
      "needs_background": "light"
     },
     "output_type": "display_data"
    },
    {
     "data": {
      "image/png": "[encoded data removed]",
      "text/plain": [
       "<Figure size 1152x504 with 1 Axes>"
      ]
     },
     "metadata": {
      "needs_background": "light"
     },
     "output_type": "display_data"
    },
    {
     "data": {
      "image/png": "[encoded data removed]",
      "text/plain": [
       "<Figure size 1152x504 with 1 Axes>"
      ]
     },
     "metadata": {
      "needs_background": "light"
     },
     "output_type": "display_data"
    },
    {
     "data": {
      "image/png": "[encoded data removed]",
      "text/plain": [
       "<Figure size 1152x504 with 1 Axes>"
      ]
     },
     "metadata": {
      "needs_background": "light"
     },
     "output_type": "display_data"
    },
    {
     "data": {
      "image/png": "[encoded data removed]",
      "text/plain": [
       "<Figure size 1152x504 with 1 Axes>"
      ]
     },
     "metadata": {
      "needs_background": "light"
     },
     "output_type": "display_data"
    },
    {
     "data": {
      "image/png": "[encoded data removed]",
      "text/plain": [
       "<Figure size 1152x504 with 1 Axes>"
      ]
     },
     "metadata": {
      "needs_background": "light"
     },
     "output_type": "display_data"
    },
    {
     "data": {
      "image/png": "[encoded data removed]",
      "text/plain": [
       "<Figure size 1152x504 with 1 Axes>"
      ]
     },
     "metadata": {
      "needs_background": "light"
     },
     "output_type": "display_data"
    },
    {
     "data": {
      "image/png": "[encoded data removed]",
      "text/plain": [
       "<Figure size 1152x504 with 1 Axes>"
      ]
     },
     "metadata": {
      "needs_background": "light"
     },
     "output_type": "display_data"
    },
    {
     "data": {
      "image/png": "[encoded data removed]",
      "text/plain": [
       "<Figure size 1152x504 with 1 Axes>"
      ]
     },
     "metadata": {
      "needs_background": "light"
     },
     "output_type": "display_data"
    },
    {
     "ename": "KeyError",
     "evalue": "'term_ 36 months'",
     "output_type": "error",
     "traceback": [
      "\u001b[1;31m---------------------------------------------------------------------------\u001b[0m",
      "\u001b[1;31mKeyError\u001b[0m                                  Traceback (most recent call last)",
      "\u001b[1;32m~\\Anaconda3\\lib\\site-packages\\pandas\\core\\indexes\\base.py\u001b[0m in \u001b[0;36mget_loc\u001b[1;34m(self, key, method, tolerance)\u001b[0m\n\u001b[0;32m   3079\u001b[0m             \u001b[1;32mtry\u001b[0m\u001b[1;33m:\u001b[0m\u001b[1;33m\u001b[0m\u001b[1;33m\u001b[0m\u001b[0m\n\u001b[1;32m-> 3080\u001b[1;33m                 \u001b[1;32mreturn\u001b[0m \u001b[0mself\u001b[0m\u001b[1;33m.\u001b[0m\u001b[0m_engine\u001b[0m\u001b[1;33m.\u001b[0m\u001b[0mget_loc\u001b[0m\u001b[1;33m(\u001b[0m\u001b[0mcasted_key\u001b[0m\u001b[1;33m)\u001b[0m\u001b[1;33m\u001b[0m\u001b[1;33m\u001b[0m\u001b[0m\n\u001b[0m\u001b[0;32m   3081\u001b[0m             \u001b[1;32mexcept\u001b[0m \u001b[0mKeyError\u001b[0m \u001b[1;32mas\u001b[0m \u001b[0merr\u001b[0m\u001b[1;33m:\u001b[0m\u001b[1;33m\u001b[0m\u001b[1;33m\u001b[0m\u001b[0m\n",
      "\u001b[1;32mpandas\\_libs\\index.pyx\u001b[0m in \u001b[0;36mpandas._libs.index.IndexEngine.get_loc\u001b[1;34m()\u001b[0m\n",
      "\u001b[1;32mpandas\\_libs\\index.pyx\u001b[0m in \u001b[0;36mpandas._libs.index.IndexEngine.get_loc\u001b[1;34m()\u001b[0m\n",
      "\u001b[1;32mpandas\\_libs\\hashtable_class_helper.pxi\u001b[0m in \u001b[0;36mpandas._libs.hashtable.PyObjectHashTable.get_item\u001b[1;34m()\u001b[0m\n",
      "\u001b[1;32mpandas\\_libs\\hashtable_class_helper.pxi\u001b[0m in \u001b[0;36mpandas._libs.hashtable.PyObjectHashTable.get_item\u001b[1;34m()\u001b[0m\n",
      "\u001b[1;31mKeyError\u001b[0m: 'term_ 36 months'",
      "\nThe above exception was the direct cause of the following exception:\n",
      "\u001b[1;31mKeyError\u001b[0m                                  Traceback (most recent call last)",
      "\u001b[1;32m<ipython-input-32-0150795aa1d6>\u001b[0m in \u001b[0;36m<module>\u001b[1;34m\u001b[0m\n\u001b[0;32m      1\u001b[0m \u001b[1;32mfor\u001b[0m \u001b[0mcolumn\u001b[0m \u001b[1;32min\u001b[0m \u001b[0mX_encode\u001b[0m\u001b[1;33m.\u001b[0m\u001b[0mcolumns\u001b[0m\u001b[1;33m:\u001b[0m\u001b[1;33m\u001b[0m\u001b[1;33m\u001b[0m\u001b[0m\n\u001b[0;32m      2\u001b[0m     \u001b[0mplt\u001b[0m\u001b[1;33m.\u001b[0m\u001b[0mfigure\u001b[0m\u001b[1;33m(\u001b[0m\u001b[0mfigsize\u001b[0m\u001b[1;33m=\u001b[0m\u001b[1;33m(\u001b[0m\u001b[1;36m16\u001b[0m\u001b[1;33m,\u001b[0m\u001b[1;36m7\u001b[0m\u001b[1;33m)\u001b[0m\u001b[1;33m)\u001b[0m\u001b[1;33m\u001b[0m\u001b[1;33m\u001b[0m\u001b[0m\n\u001b[1;32m----> 3\u001b[1;33m     \u001b[0msns\u001b[0m\u001b[1;33m.\u001b[0m\u001b[0mboxplot\u001b[0m\u001b[1;33m(\u001b[0m\u001b[0mx\u001b[0m\u001b[1;33m=\u001b[0m\u001b[0mX\u001b[0m\u001b[1;33m[\u001b[0m\u001b[0mcolumn\u001b[0m\u001b[1;33m]\u001b[0m\u001b[1;33m)\u001b[0m\u001b[1;33m\u001b[0m\u001b[1;33m\u001b[0m\u001b[0m\n\u001b[0m\u001b[0;32m      4\u001b[0m     \u001b[0mplt\u001b[0m\u001b[1;33m.\u001b[0m\u001b[0mxticks\u001b[0m\u001b[1;33m(\u001b[0m\u001b[0mrotation\u001b[0m\u001b[1;33m=\u001b[0m\u001b[1;36m45\u001b[0m\u001b[1;33m)\u001b[0m\u001b[1;33m\u001b[0m\u001b[1;33m\u001b[0m\u001b[0m\n\u001b[0;32m      5\u001b[0m     \u001b[0mplt\u001b[0m\u001b[1;33m.\u001b[0m\u001b[0mtight_layout\u001b[0m\u001b[1;33m(\u001b[0m\u001b[1;33m)\u001b[0m\u001b[1;33m\u001b[0m\u001b[1;33m\u001b[0m\u001b[0m\n",
      "\u001b[1;32m~\\Anaconda3\\lib\\site-packages\\pandas\\core\\frame.py\u001b[0m in \u001b[0;36m__getitem__\u001b[1;34m(self, key)\u001b[0m\n\u001b[0;32m   3022\u001b[0m             \u001b[1;32mif\u001b[0m \u001b[0mself\u001b[0m\u001b[1;33m.\u001b[0m\u001b[0mcolumns\u001b[0m\u001b[1;33m.\u001b[0m\u001b[0mnlevels\u001b[0m \u001b[1;33m>\u001b[0m \u001b[1;36m1\u001b[0m\u001b[1;33m:\u001b[0m\u001b[1;33m\u001b[0m\u001b[1;33m\u001b[0m\u001b[0m\n\u001b[0;32m   3023\u001b[0m                 \u001b[1;32mreturn\u001b[0m \u001b[0mself\u001b[0m\u001b[1;33m.\u001b[0m\u001b[0m_getitem_multilevel\u001b[0m\u001b[1;33m(\u001b[0m\u001b[0mkey\u001b[0m\u001b[1;33m)\u001b[0m\u001b[1;33m\u001b[0m\u001b[1;33m\u001b[0m\u001b[0m\n\u001b[1;32m-> 3024\u001b[1;33m             \u001b[0mindexer\u001b[0m \u001b[1;33m=\u001b[0m \u001b[0mself\u001b[0m\u001b[1;33m.\u001b[0m\u001b[0mcolumns\u001b[0m\u001b[1;33m.\u001b[0m\u001b[0mget_loc\u001b[0m\u001b[1;33m(\u001b[0m\u001b[0mkey\u001b[0m\u001b[1;33m)\u001b[0m\u001b[1;33m\u001b[0m\u001b[1;33m\u001b[0m\u001b[0m\n\u001b[0m\u001b[0;32m   3025\u001b[0m             \u001b[1;32mif\u001b[0m \u001b[0mis_integer\u001b[0m\u001b[1;33m(\u001b[0m\u001b[0mindexer\u001b[0m\u001b[1;33m)\u001b[0m\u001b[1;33m:\u001b[0m\u001b[1;33m\u001b[0m\u001b[1;33m\u001b[0m\u001b[0m\n\u001b[0;32m   3026\u001b[0m                 \u001b[0mindexer\u001b[0m \u001b[1;33m=\u001b[0m \u001b[1;33m[\u001b[0m\u001b[0mindexer\u001b[0m\u001b[1;33m]\u001b[0m\u001b[1;33m\u001b[0m\u001b[1;33m\u001b[0m\u001b[0m\n",
      "\u001b[1;32m~\\Anaconda3\\lib\\site-packages\\pandas\\core\\indexes\\base.py\u001b[0m in \u001b[0;36mget_loc\u001b[1;34m(self, key, method, tolerance)\u001b[0m\n\u001b[0;32m   3080\u001b[0m                 \u001b[1;32mreturn\u001b[0m \u001b[0mself\u001b[0m\u001b[1;33m.\u001b[0m\u001b[0m_engine\u001b[0m\u001b[1;33m.\u001b[0m\u001b[0mget_loc\u001b[0m\u001b[1;33m(\u001b[0m\u001b[0mcasted_key\u001b[0m\u001b[1;33m)\u001b[0m\u001b[1;33m\u001b[0m\u001b[1;33m\u001b[0m\u001b[0m\n\u001b[0;32m   3081\u001b[0m             \u001b[1;32mexcept\u001b[0m \u001b[0mKeyError\u001b[0m \u001b[1;32mas\u001b[0m \u001b[0merr\u001b[0m\u001b[1;33m:\u001b[0m\u001b[1;33m\u001b[0m\u001b[1;33m\u001b[0m\u001b[0m\n\u001b[1;32m-> 3082\u001b[1;33m                 \u001b[1;32mraise\u001b[0m \u001b[0mKeyError\u001b[0m\u001b[1;33m(\u001b[0m\u001b[0mkey\u001b[0m\u001b[1;33m)\u001b[0m \u001b[1;32mfrom\u001b[0m \u001b[0merr\u001b[0m\u001b[1;33m\u001b[0m\u001b[1;33m\u001b[0m\u001b[0m\n\u001b[0m\u001b[0;32m   3083\u001b[0m \u001b[1;33m\u001b[0m\u001b[0m\n\u001b[0;32m   3084\u001b[0m         \u001b[1;32mif\u001b[0m \u001b[0mtolerance\u001b[0m \u001b[1;32mis\u001b[0m \u001b[1;32mnot\u001b[0m \u001b[1;32mNone\u001b[0m\u001b[1;33m:\u001b[0m\u001b[1;33m\u001b[0m\u001b[1;33m\u001b[0m\u001b[0m\n",
      "\u001b[1;31mKeyError\u001b[0m: 'term_ 36 months'"
     ]
    },
    {
     "data": {
      "text/plain": [
       "<Figure size 1152x504 with 0 Axes>"
      ]
     },
     "metadata": {},
     "output_type": "display_data"
    }
   ],
   "source": [
    "for column in X_encode.columns:\n",
    "    plt.figure(figsize=(16,7))\n",
    "    sns.boxplot(x=X[column])\n",
    "    plt.xticks(rotation=45)\n",
    "    plt.tight_layout()\n",
    "    plt.show()"
   ]
  },
  {
   "cell_type": "markdown",
   "id": "7e65deb2",
   "metadata": {},
   "source": [
    "## Splitting the data into training and testing set Using The Index Column \" Date \""
   ]
  },
  {
   "cell_type": "code",
   "execution_count": 33,
   "id": "0a526b07",
   "metadata": {},
   "outputs": [],
   "source": [
    "date_limit =  'March-2015'"
   ]
  },
  {
   "cell_type": "code",
   "execution_count": 34,
   "id": "a69a2142",
   "metadata": {},
   "outputs": [],
   "source": [
    "X_train = X_encode.loc[data['issue_d'] <= date_limit]\n",
    "X_test = X_encode.loc[data['issue_d'] > date_limit]"
   ]
  },
  {
   "cell_type": "code",
   "execution_count": 35,
   "id": "42332de0",
   "metadata": {},
   "outputs": [],
   "source": [
    "y_limit = X_train.shape[0]"
   ]
  },
  {
   "cell_type": "code",
   "execution_count": 36,
   "id": "1ba53c8e",
   "metadata": {},
   "outputs": [],
   "source": [
    "y_train = y.iloc[0:y_limit]\n",
    "y_test = y.iloc[y_limit :]"
   ]
  },
  {
   "cell_type": "code",
   "execution_count": 37,
   "id": "1e1f39a4",
   "metadata": {
    "scrolled": false
   },
   "outputs": [
    {
     "data": {
      "text/plain": [
       "((533521, 96), (322448, 96), (533521,), (322448,))"
      ]
     },
     "execution_count": 37,
     "metadata": {},
     "output_type": "execute_result"
    }
   ],
   "source": [
    "X_train.shape, X_test.shape, y_train.shape, y_test.shape"
   ]
  },
  {
   "cell_type": "code",
   "execution_count": 38,
   "id": "d928f601",
   "metadata": {},
   "outputs": [
    {
     "data": {
      "text/plain": [
       "issue_d\n",
       "Apr-2008    0\n",
       "Apr-2008    0\n",
       "Apr-2008    0\n",
       "Apr-2008    0\n",
       "Apr-2008    0\n",
       "           ..\n",
       "Mar-2015    0\n",
       "Mar-2015    0\n",
       "Mar-2015    0\n",
       "Mar-2015    0\n",
       "Mar-2015    0\n",
       "Name: default_ind, Length: 533521, dtype: int64"
      ]
     },
     "execution_count": 38,
     "metadata": {},
     "output_type": "execute_result"
    }
   ],
   "source": [
    "y_train"
   ]
  },
  {
   "cell_type": "markdown",
   "id": "24cc5f9e",
   "metadata": {},
   "source": [
    "## Dropping The Index Column"
   ]
  },
  {
   "cell_type": "code",
   "execution_count": 39,
   "id": "94e4a919",
   "metadata": {},
   "outputs": [],
   "source": [
    "X_encode = X_encode.reset_index(drop=True)"
   ]
  },
  {
   "cell_type": "code",
   "execution_count": 40,
   "id": "2ace9933",
   "metadata": {},
   "outputs": [],
   "source": [
    "y = y.reset_index(drop=True)"
   ]
  },
  {
   "cell_type": "code",
   "execution_count": 41,
   "id": "66b7ae65",
   "metadata": {
    "scrolled": true
   },
   "outputs": [
    {
     "data": {
      "text/html": [
       "<div>\n",
       "<style scoped>\n",
       "    .dataframe tbody tr th:only-of-type {\n",
       "        vertical-align: middle;\n",
       "    }\n",
       "\n",
       "    .dataframe tbody tr th {\n",
       "        vertical-align: top;\n",
       "    }\n",
       "\n",
       "    .dataframe thead th {\n",
       "        text-align: right;\n",
       "    }\n",
       "</style>\n",
       "<table border=\"1\" class=\"dataframe\">\n",
       "  <thead>\n",
       "    <tr style=\"text-align: right;\">\n",
       "      <th></th>\n",
       "      <th>loan_amnt</th>\n",
       "      <th>funded_amnt</th>\n",
       "      <th>funded_amnt_inv</th>\n",
       "      <th>term</th>\n",
       "      <th>int_rate</th>\n",
       "      <th>installment</th>\n",
       "      <th>grade</th>\n",
       "      <th>sub_grade</th>\n",
       "      <th>home_ownership</th>\n",
       "      <th>annual_inc</th>\n",
       "      <th>...</th>\n",
       "      <th>total_pymnt_inv</th>\n",
       "      <th>total_rec_prncp</th>\n",
       "      <th>total_rec_int</th>\n",
       "      <th>total_rec_late_fee</th>\n",
       "      <th>recoveries</th>\n",
       "      <th>collection_recovery_fee</th>\n",
       "      <th>last_pymnt_amnt</th>\n",
       "      <th>policy_code</th>\n",
       "      <th>application_type</th>\n",
       "      <th>acc_now_delinq</th>\n",
       "    </tr>\n",
       "    <tr>\n",
       "      <th>issue_d</th>\n",
       "      <th></th>\n",
       "      <th></th>\n",
       "      <th></th>\n",
       "      <th></th>\n",
       "      <th></th>\n",
       "      <th></th>\n",
       "      <th></th>\n",
       "      <th></th>\n",
       "      <th></th>\n",
       "      <th></th>\n",
       "      <th></th>\n",
       "      <th></th>\n",
       "      <th></th>\n",
       "      <th></th>\n",
       "      <th></th>\n",
       "      <th></th>\n",
       "      <th></th>\n",
       "      <th></th>\n",
       "      <th></th>\n",
       "      <th></th>\n",
       "      <th></th>\n",
       "    </tr>\n",
       "  </thead>\n",
       "  <tbody>\n",
       "    <tr>\n",
       "      <th>Apr-2008</th>\n",
       "      <td>6400.0</td>\n",
       "      <td>6400.0</td>\n",
       "      <td>6400.00</td>\n",
       "      <td>36 months</td>\n",
       "      <td>10.39</td>\n",
       "      <td>207.69</td>\n",
       "      <td>B</td>\n",
       "      <td>B4</td>\n",
       "      <td>RENT</td>\n",
       "      <td>87000.0</td>\n",
       "      <td>...</td>\n",
       "      <td>7476.46</td>\n",
       "      <td>6400.00</td>\n",
       "      <td>1076.46</td>\n",
       "      <td>0.0</td>\n",
       "      <td>0.0</td>\n",
       "      <td>0.0</td>\n",
       "      <td>208.38</td>\n",
       "      <td>1.0</td>\n",
       "      <td>INDIVIDUAL</td>\n",
       "      <td>0.0</td>\n",
       "    </tr>\n",
       "    <tr>\n",
       "      <th>Apr-2008</th>\n",
       "      <td>4500.0</td>\n",
       "      <td>4500.0</td>\n",
       "      <td>1446.50</td>\n",
       "      <td>36 months</td>\n",
       "      <td>11.97</td>\n",
       "      <td>149.40</td>\n",
       "      <td>C</td>\n",
       "      <td>C4</td>\n",
       "      <td>MORTGAGE</td>\n",
       "      <td>115200.0</td>\n",
       "      <td>...</td>\n",
       "      <td>1713.12</td>\n",
       "      <td>4499.99</td>\n",
       "      <td>878.41</td>\n",
       "      <td>0.0</td>\n",
       "      <td>0.0</td>\n",
       "      <td>0.0</td>\n",
       "      <td>149.40</td>\n",
       "      <td>1.0</td>\n",
       "      <td>INDIVIDUAL</td>\n",
       "      <td>0.0</td>\n",
       "    </tr>\n",
       "    <tr>\n",
       "      <th>Apr-2008</th>\n",
       "      <td>10000.0</td>\n",
       "      <td>10000.0</td>\n",
       "      <td>3650.62</td>\n",
       "      <td>36 months</td>\n",
       "      <td>10.08</td>\n",
       "      <td>323.05</td>\n",
       "      <td>B</td>\n",
       "      <td>B3</td>\n",
       "      <td>RENT</td>\n",
       "      <td>35665.0</td>\n",
       "      <td>...</td>\n",
       "      <td>4063.96</td>\n",
       "      <td>10000.00</td>\n",
       "      <td>1628.15</td>\n",
       "      <td>0.0</td>\n",
       "      <td>0.0</td>\n",
       "      <td>0.0</td>\n",
       "      <td>334.73</td>\n",
       "      <td>1.0</td>\n",
       "      <td>INDIVIDUAL</td>\n",
       "      <td>0.0</td>\n",
       "    </tr>\n",
       "    <tr>\n",
       "      <th>Apr-2008</th>\n",
       "      <td>5700.0</td>\n",
       "      <td>5700.0</td>\n",
       "      <td>4925.00</td>\n",
       "      <td>36 months</td>\n",
       "      <td>10.39</td>\n",
       "      <td>184.97</td>\n",
       "      <td>B</td>\n",
       "      <td>B4</td>\n",
       "      <td>RENT</td>\n",
       "      <td>36000.0</td>\n",
       "      <td>...</td>\n",
       "      <td>5200.81</td>\n",
       "      <td>5700.00</td>\n",
       "      <td>319.22</td>\n",
       "      <td>0.0</td>\n",
       "      <td>0.0</td>\n",
       "      <td>0.0</td>\n",
       "      <td>725.79</td>\n",
       "      <td>1.0</td>\n",
       "      <td>INDIVIDUAL</td>\n",
       "      <td>0.0</td>\n",
       "    </tr>\n",
       "    <tr>\n",
       "      <th>Apr-2008</th>\n",
       "      <td>4075.0</td>\n",
       "      <td>4075.0</td>\n",
       "      <td>4050.00</td>\n",
       "      <td>36 months</td>\n",
       "      <td>8.32</td>\n",
       "      <td>128.30</td>\n",
       "      <td>A</td>\n",
       "      <td>A4</td>\n",
       "      <td>RENT</td>\n",
       "      <td>19200.0</td>\n",
       "      <td>...</td>\n",
       "      <td>4256.28</td>\n",
       "      <td>4075.00</td>\n",
       "      <td>207.55</td>\n",
       "      <td>0.0</td>\n",
       "      <td>0.0</td>\n",
       "      <td>0.0</td>\n",
       "      <td>123.61</td>\n",
       "      <td>1.0</td>\n",
       "      <td>INDIVIDUAL</td>\n",
       "      <td>0.0</td>\n",
       "    </tr>\n",
       "  </tbody>\n",
       "</table>\n",
       "<p>5 rows × 34 columns</p>\n",
       "</div>"
      ],
      "text/plain": [
       "          loan_amnt  funded_amnt  funded_amnt_inv        term  int_rate  \\\n",
       "issue_d                                                                   \n",
       "Apr-2008     6400.0       6400.0          6400.00   36 months     10.39   \n",
       "Apr-2008     4500.0       4500.0          1446.50   36 months     11.97   \n",
       "Apr-2008    10000.0      10000.0          3650.62   36 months     10.08   \n",
       "Apr-2008     5700.0       5700.0          4925.00   36 months     10.39   \n",
       "Apr-2008     4075.0       4075.0          4050.00   36 months      8.32   \n",
       "\n",
       "          installment grade sub_grade home_ownership  annual_inc  ...  \\\n",
       "issue_d                                                           ...   \n",
       "Apr-2008       207.69     B        B4           RENT     87000.0  ...   \n",
       "Apr-2008       149.40     C        C4       MORTGAGE    115200.0  ...   \n",
       "Apr-2008       323.05     B        B3           RENT     35665.0  ...   \n",
       "Apr-2008       184.97     B        B4           RENT     36000.0  ...   \n",
       "Apr-2008       128.30     A        A4           RENT     19200.0  ...   \n",
       "\n",
       "         total_pymnt_inv  total_rec_prncp total_rec_int  total_rec_late_fee  \\\n",
       "issue_d                                                                       \n",
       "Apr-2008         7476.46          6400.00       1076.46                 0.0   \n",
       "Apr-2008         1713.12          4499.99        878.41                 0.0   \n",
       "Apr-2008         4063.96         10000.00       1628.15                 0.0   \n",
       "Apr-2008         5200.81          5700.00        319.22                 0.0   \n",
       "Apr-2008         4256.28          4075.00        207.55                 0.0   \n",
       "\n",
       "          recoveries  collection_recovery_fee  last_pymnt_amnt  policy_code  \\\n",
       "issue_d                                                                       \n",
       "Apr-2008         0.0                      0.0           208.38          1.0   \n",
       "Apr-2008         0.0                      0.0           149.40          1.0   \n",
       "Apr-2008         0.0                      0.0           334.73          1.0   \n",
       "Apr-2008         0.0                      0.0           725.79          1.0   \n",
       "Apr-2008         0.0                      0.0           123.61          1.0   \n",
       "\n",
       "          application_type  acc_now_delinq  \n",
       "issue_d                                     \n",
       "Apr-2008        INDIVIDUAL             0.0  \n",
       "Apr-2008        INDIVIDUAL             0.0  \n",
       "Apr-2008        INDIVIDUAL             0.0  \n",
       "Apr-2008        INDIVIDUAL             0.0  \n",
       "Apr-2008        INDIVIDUAL             0.0  \n",
       "\n",
       "[5 rows x 34 columns]"
      ]
     },
     "execution_count": 41,
     "metadata": {},
     "output_type": "execute_result"
    }
   ],
   "source": [
    "X.head()"
   ]
  },
  {
   "cell_type": "code",
   "execution_count": 42,
   "id": "f262af89",
   "metadata": {},
   "outputs": [
    {
     "data": {
      "text/plain": [
       "0    0\n",
       "1    0\n",
       "2    0\n",
       "3    0\n",
       "4    0\n",
       "Name: default_ind, dtype: int64"
      ]
     },
     "execution_count": 42,
     "metadata": {},
     "output_type": "execute_result"
    }
   ],
   "source": [
    "y.head()"
   ]
  },
  {
   "cell_type": "markdown",
   "id": "e0feab72",
   "metadata": {},
   "source": [
    "### Extracting The dataFrame Values for Normalization"
   ]
  },
  {
   "cell_type": "code",
   "execution_count": 43,
   "id": "5e6a74e0",
   "metadata": {},
   "outputs": [],
   "source": [
    "X_encode = X_encode.values"
   ]
  },
  {
   "cell_type": "code",
   "execution_count": 44,
   "id": "10e2d4b4",
   "metadata": {},
   "outputs": [
    {
     "data": {
      "text/plain": [
       "(855969, 96)"
      ]
     },
     "execution_count": 44,
     "metadata": {},
     "output_type": "execute_result"
    }
   ],
   "source": [
    "np.shape(X_encode)"
   ]
  },
  {
   "cell_type": "markdown",
   "id": "8672e995",
   "metadata": {},
   "source": [
    "## With The Help of the EDA, we are able to detect Outliers in Our Data, So we have to perform StandardScaling to get rid of the outliers"
   ]
  },
  {
   "cell_type": "code",
   "execution_count": 45,
   "id": "4e03770b",
   "metadata": {
    "scrolled": true
   },
   "outputs": [
    {
     "data": {
      "text/plain": [
       "array([[-0.99053287, -0.9896563 , -0.98507687, ..., -0.05167941,\n",
       "         0.02272973, -0.02272973],\n",
       "       [-1.21604319, -1.2153238 , -1.57297353, ..., -0.05167941,\n",
       "         0.02272973, -0.02272973],\n",
       "       [-0.56325016, -0.56207578, -1.31138177, ..., -0.05167941,\n",
       "         0.02272973, -0.02272973],\n",
       "       ...,\n",
       "       [ 0.86102554,  0.86319264,  0.86637925, ..., -0.05167941,\n",
       "         0.02272973, -0.02272973],\n",
       "       [-1.03800873, -1.03716525, -1.0325501 , ..., -0.05167941,\n",
       "         0.02272973, -0.02272973],\n",
       "       [ 1.07763413,  1.07995221,  1.08297588, ..., -0.05167941,\n",
       "         0.02272973, -0.02272973]])"
      ]
     },
     "execution_count": 45,
     "metadata": {},
     "output_type": "execute_result"
    }
   ],
   "source": [
    "sc = StandardScaler()\n",
    "X_encode_sc = sc.fit_transform(X_encode)\n",
    "X_encode_sc"
   ]
  },
  {
   "cell_type": "markdown",
   "id": "dfc693e6",
   "metadata": {},
   "source": [
    "## Building Our Model Using The Xgboost Classifier"
   ]
  },
  {
   "cell_type": "code",
   "execution_count": 46,
   "id": "714d2870",
   "metadata": {},
   "outputs": [],
   "source": [
    "model = XGBClassifier(objective='binary:logistic', random_state=42)"
   ]
  },
  {
   "cell_type": "code",
   "execution_count": 47,
   "id": "ee58c138",
   "metadata": {
    "scrolled": true
   },
   "outputs": [
    {
     "name": "stderr",
     "output_type": "stream",
     "text": [
      "C:\\Users\\habee\\Anaconda3\\lib\\site-packages\\xgboost\\sklearn.py:1224: UserWarning: The use of label encoder in XGBClassifier is deprecated and will be removed in a future release. To remove this warning, do the following: 1) Pass option use_label_encoder=False when constructing XGBClassifier object; and 2) Encode your labels (y) as integers starting with 0, i.e. 0, 1, 2, ..., [num_class - 1].\n",
      "  warnings.warn(label_encoder_deprecation_msg, UserWarning)\n"
     ]
    },
    {
     "name": "stdout",
     "output_type": "stream",
     "text": [
      "[17:41:03] WARNING: D:\\bld\\xgboost-split_1645118015404\\work\\src\\learner.cc:1115: Starting in XGBoost 1.3.0, the default evaluation metric used with the objective 'binary:logistic' was changed from 'error' to 'logloss'. Explicitly set eval_metric if you'd like to restore the old behavior.\n",
      "[0]\tvalidation_0-logloss:0.44161\n",
      "[1]\tvalidation_0-logloss:0.30235\n",
      "[2]\tvalidation_0-logloss:0.21439\n",
      "[3]\tvalidation_0-logloss:0.15571\n",
      "[4]\tvalidation_0-logloss:0.11559\n",
      "[5]\tvalidation_0-logloss:0.08676\n",
      "[6]\tvalidation_0-logloss:0.06622\n",
      "[7]\tvalidation_0-logloss:0.05178\n",
      "[8]\tvalidation_0-logloss:0.04116\n",
      "[9]\tvalidation_0-logloss:0.03298\n",
      "[10]\tvalidation_0-logloss:0.02736\n",
      "[11]\tvalidation_0-logloss:0.02314\n",
      "[12]\tvalidation_0-logloss:0.02010\n",
      "[13]\tvalidation_0-logloss:0.01778\n",
      "[14]\tvalidation_0-logloss:0.01622\n",
      "[15]\tvalidation_0-logloss:0.01466\n",
      "[16]\tvalidation_0-logloss:0.01355\n",
      "[17]\tvalidation_0-logloss:0.01290\n",
      "[18]\tvalidation_0-logloss:0.01244\n",
      "[19]\tvalidation_0-logloss:0.01191\n",
      "[20]\tvalidation_0-logloss:0.01169\n",
      "[21]\tvalidation_0-logloss:0.01157\n",
      "[22]\tvalidation_0-logloss:0.01152\n",
      "[23]\tvalidation_0-logloss:0.01134\n",
      "[24]\tvalidation_0-logloss:0.01122\n",
      "[25]\tvalidation_0-logloss:0.01148\n",
      "[26]\tvalidation_0-logloss:0.01126\n",
      "[27]\tvalidation_0-logloss:0.01115\n",
      "[28]\tvalidation_0-logloss:0.01104\n",
      "[29]\tvalidation_0-logloss:0.01109\n",
      "[30]\tvalidation_0-logloss:0.01107\n",
      "[31]\tvalidation_0-logloss:0.01100\n",
      "[32]\tvalidation_0-logloss:0.01091\n",
      "[33]\tvalidation_0-logloss:0.01111\n",
      "[34]\tvalidation_0-logloss:0.01107\n",
      "[35]\tvalidation_0-logloss:0.01103\n",
      "[36]\tvalidation_0-logloss:0.01093\n",
      "[37]\tvalidation_0-logloss:0.01093\n",
      "[38]\tvalidation_0-logloss:0.01090\n",
      "[39]\tvalidation_0-logloss:0.01119\n",
      "[40]\tvalidation_0-logloss:0.01115\n",
      "[41]\tvalidation_0-logloss:0.01111\n",
      "[42]\tvalidation_0-logloss:0.01117\n",
      "[43]\tvalidation_0-logloss:0.01117\n",
      "[44]\tvalidation_0-logloss:0.01115\n",
      "[45]\tvalidation_0-logloss:0.01118\n",
      "[46]\tvalidation_0-logloss:0.01117\n",
      "[47]\tvalidation_0-logloss:0.01122\n",
      "[48]\tvalidation_0-logloss:0.01120\n"
     ]
    },
    {
     "data": {
      "text/plain": [
       "XGBClassifier(base_score=0.5, booster='gbtree', colsample_bylevel=1,\n",
       "              colsample_bynode=1, colsample_bytree=1, enable_categorical=False,\n",
       "              gamma=0, gpu_id=-1, importance_type=None,\n",
       "              interaction_constraints='', learning_rate=0.300000012,\n",
       "              max_delta_step=0, max_depth=6, min_child_weight=1, missing=nan,\n",
       "              monotone_constraints='()', n_estimators=100, n_jobs=4,\n",
       "              num_parallel_tree=1, predictor='auto', random_state=42,\n",
       "              reg_alpha=0, reg_lambda=1, scale_pos_weight=1, subsample=1,\n",
       "              tree_method='exact', validate_parameters=1, verbosity=None)"
      ]
     },
     "execution_count": 47,
     "metadata": {},
     "output_type": "execute_result"
    }
   ],
   "source": [
    "model.fit(X_train,\n",
    "                  y_train,\n",
    "                 verbose=True,\n",
    "                 early_stopping_rounds=10,\n",
    "                 eval_set=[(X_test, y_test)])"
   ]
  },
  {
   "cell_type": "markdown",
   "id": "e7528515",
   "metadata": {},
   "source": [
    "## Plotting The Importance Of The features To The Model"
   ]
  },
  {
   "cell_type": "code",
   "execution_count": 48,
   "id": "c1258048",
   "metadata": {},
   "outputs": [
    {
     "data": {
      "image/png": "[encoded data removed]",
      "text/plain": [
       "<Figure size 1152x1440 with 1 Axes>"
      ]
     },
     "metadata": {
      "needs_background": "light"
     },
     "output_type": "display_data"
    }
   ],
   "source": [
    "plt.figure(figsize=(16,20))\n",
    "xgb.plot_importance(model, plt.gca())\n",
    "plt.show()"
   ]
  },
  {
   "cell_type": "markdown",
   "id": "7a345df0",
   "metadata": {},
   "source": [
    "### Making Predicting And Checking The Accuracy Of The Model On The Test Set"
   ]
  },
  {
   "cell_type": "code",
   "execution_count": 49,
   "id": "72931331",
   "metadata": {},
   "outputs": [],
   "source": [
    "X_test_predictions = model.predict(X_test)"
   ]
  },
  {
   "cell_type": "markdown",
   "id": "207b0cc4",
   "metadata": {},
   "source": [
    "### Testing Set Accuracy Score"
   ]
  },
  {
   "cell_type": "code",
   "execution_count": 50,
   "id": "f1b96456",
   "metadata": {},
   "outputs": [],
   "source": [
    "accuracy = accuracy_score(X_test_predictions, y_test) * 100"
   ]
  },
  {
   "cell_type": "code",
   "execution_count": 51,
   "id": "b88be7ea",
   "metadata": {
    "scrolled": true
   },
   "outputs": [
    {
     "data": {
      "text/plain": [
       "99.83811343224333"
      ]
     },
     "execution_count": 51,
     "metadata": {},
     "output_type": "execute_result"
    }
   ],
   "source": [
    "accuracy"
   ]
  },
  {
   "cell_type": "markdown",
   "id": "b6f8ecc7",
   "metadata": {},
   "source": [
    "\n",
    "### Testing set confusion Matrix Score"
   ]
  },
  {
   "cell_type": "code",
   "execution_count": 52,
   "id": "96c44843",
   "metadata": {
    "scrolled": true
   },
   "outputs": [],
   "source": [
    "cf = confusion_matrix( y_test, X_test_predictions)"
   ]
  },
  {
   "cell_type": "code",
   "execution_count": 53,
   "id": "8b6f26b7",
   "metadata": {},
   "outputs": [
    {
     "data": {
      "text/plain": [
       "array([[306491,      2],\n",
       "       [   520,  15435]], dtype=int64)"
      ]
     },
     "execution_count": 53,
     "metadata": {},
     "output_type": "execute_result"
    }
   ],
   "source": [
    "cf"
   ]
  },
  {
   "cell_type": "markdown",
   "id": "d69b342a",
   "metadata": {},
   "source": [
    "## Classification Reports "
   ]
  },
  {
   "cell_type": "code",
   "execution_count": 54,
   "id": "b09bcdb4",
   "metadata": {},
   "outputs": [
    {
     "name": "stdout",
     "output_type": "stream",
     "text": [
      "              precision    recall  f1-score   support\n",
      "\n",
      "           0       1.00      1.00      1.00    306493\n",
      "           1       1.00      0.97      0.98     15955\n",
      "\n",
      "    accuracy                           1.00    322448\n",
      "   macro avg       1.00      0.98      0.99    322448\n",
      "weighted avg       1.00      1.00      1.00    322448\n",
      "\n"
     ]
    }
   ],
   "source": [
    "print(classification_report(y_test, X_test_predictions))"
   ]
  },
  {
   "cell_type": "markdown",
   "id": "8ed6c281",
   "metadata": {},
   "source": [
    "### Plotting The Confusion Matrix Using Seaborn"
   ]
  },
  {
   "cell_type": "code",
   "execution_count": 55,
   "id": "4c0c75f8",
   "metadata": {},
   "outputs": [],
   "source": [
    "cf_matrix = confusion_matrix(y_test, X_test_predictions)"
   ]
  },
  {
   "cell_type": "code",
   "execution_count": 57,
   "id": "7471a9f1",
   "metadata": {},
   "outputs": [
    {
     "data": {
      "image/png": "[encoded data removed]",
      "text/plain": [
       "<Figure size 1152x576 with 2 Axes>"
      ]
     },
     "metadata": {
      "needs_background": "light"
     },
     "output_type": "display_data"
    }
   ],
   "source": [
    "fig, ax = plt.subplots(figsize=(16,8))\n",
    "ax = sns.heatmap(cf_matrix, annot=True, fmt='', cmap='rainbow')\n",
    "\n",
    "ax.set_title('Seaborn Confusion Matrix with labels\\n\\n');\n",
    "ax.set_xlabel('\\nPredicted Values')\n",
    "ax.set_xlabel('Actual Values ');\n",
    "\n",
    "## Display the visualization of the Confusion Matrix.\n",
    "plt.show()"
   ]
  },
  {
   "cell_type": "markdown",
   "id": "273d9c93",
   "metadata": {},
   "source": [
    "### Checking The Accuracy Of The Model On The Training Set"
   ]
  },
  {
   "cell_type": "code",
   "execution_count": 58,
   "id": "e285a0e4",
   "metadata": {},
   "outputs": [],
   "source": [
    "X_train_predictions = model.predict(X_train)"
   ]
  },
  {
   "cell_type": "code",
   "execution_count": 59,
   "id": "27cb9ede",
   "metadata": {},
   "outputs": [
    {
     "data": {
      "text/plain": [
       "0.9982081305140753"
      ]
     },
     "execution_count": 59,
     "metadata": {},
     "output_type": "execute_result"
    }
   ],
   "source": [
    "accuracy_score(y_train, X_train_predictions)"
   ]
  },
  {
   "cell_type": "code",
   "execution_count": 60,
   "id": "cf0de463",
   "metadata": {},
   "outputs": [],
   "source": [
    "cf = confusion_matrix( y_train, X_train_predictions)"
   ]
  },
  {
   "cell_type": "code",
   "execution_count": 61,
   "id": "5fb0be70",
   "metadata": {},
   "outputs": [
    {
     "data": {
      "text/plain": [
       "array([[503009,      0],\n",
       "       [   956,  29556]], dtype=int64)"
      ]
     },
     "execution_count": 61,
     "metadata": {},
     "output_type": "execute_result"
    }
   ],
   "source": [
    "cf"
   ]
  },
  {
   "cell_type": "code",
   "execution_count": null,
   "id": "e579b966",
   "metadata": {},
   "outputs": [],
   "source": []
  },
  {
   "cell_type": "markdown",
   "id": "56662b2f",
   "metadata": {},
   "source": [
    "## Saving Our Model Into a File"
   ]
  },
  {
   "cell_type": "code",
   "execution_count": 62,
   "id": "cbf452c7",
   "metadata": {},
   "outputs": [
    {
     "data": {
      "text/plain": [
       "['Bank_Lending_Classification_model.pkl']"
      ]
     },
     "execution_count": 62,
     "metadata": {},
     "output_type": "execute_result"
    }
   ],
   "source": [
    "joblib.dump(model, 'Bank_Lending_Classification_model.pkl')"
   ]
  },
  {
   "cell_type": "code",
   "execution_count": 63,
   "id": "371007b8",
   "metadata": {},
   "outputs": [
    {
     "data": {
      "text/plain": [
       "XGBClassifier(base_score=0.5, booster='gbtree', colsample_bylevel=1,\n",
       "              colsample_bynode=1, colsample_bytree=1, enable_categorical=False,\n",
       "              gamma=0, gpu_id=-1, importance_type=None,\n",
       "              interaction_constraints='', learning_rate=0.300000012,\n",
       "              max_delta_step=0, max_depth=6, min_child_weight=1, missing=nan,\n",
       "              monotone_constraints='()', n_estimators=100, n_jobs=4,\n",
       "              num_parallel_tree=1, predictor='auto', random_state=42,\n",
       "              reg_alpha=0, reg_lambda=1, scale_pos_weight=1, subsample=1,\n",
       "              tree_method='exact', validate_parameters=1, verbosity=None)"
      ]
     },
     "execution_count": 63,
     "metadata": {},
     "output_type": "execute_result"
    }
   ],
   "source": [
    "joblib.load('Bank_Lending_Classification_model.pkl')"
   ]
  },
  {
   "cell_type": "code",
   "execution_count": null,
   "id": "5c78ad13",
   "metadata": {},
   "outputs": [],
   "source": []
  }
 ],
 "metadata": {
  "kernelspec": {
   "display_name": "Python 3",
   "language": "python",
   "name": "python3"
  },
  "language_info": {
   "codemirror_mode": {
    "name": "ipython",
    "version": 3
   },
   "file_extension": ".py",
   "mimetype": "text/x-python",
   "name": "python",
   "nbconvert_exporter": "python",
   "pygments_lexer": "ipython3",
   "version": "3.8.8"
  }
 },
 "nbformat": 4,
 "nbformat_minor": 5
}
